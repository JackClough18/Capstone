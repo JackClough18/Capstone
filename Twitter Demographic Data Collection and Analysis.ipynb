{
 "cells": [
  {
   "cell_type": "code",
   "execution_count": 1,
   "id": "0c1812ff",
   "metadata": {},
   "outputs": [],
   "source": [
    "import datetime\n",
    "import tweepy\n",
    "\n",
    "from time import sleep\n",
    "\n",
    "from API_keys import api_key, api_key_secret, access_token, access_token_secret"
   ]
  },
  {
   "cell_type": "code",
   "execution_count": 2,
   "id": "ac046d62",
   "metadata": {},
   "outputs": [],
   "source": [
    "auth = tweepy.OAuthHandler(api_key,api_key_secret)\n",
    "auth.set_access_token(access_token, access_token_secret)\n",
    "api = tweepy.API(auth,wait_on_rate_limit=True)"
   ]
  },
  {
   "cell_type": "code",
   "execution_count": 28,
   "id": "58ce3a18",
   "metadata": {},
   "outputs": [],
   "source": [
    "import pandas as pd\n",
    "import numpy as np\n",
    "from string import punctuation\n",
    "punctuation = set(punctuation)\n",
    "punctuation.remove(',')\n",
    "import nltk\n",
    "import spacy\n",
    "import locationtagger\n",
    "from collections import Counter\n",
    "import seaborn as sns\n",
    "import matplotlib.pyplot as plt\n",
    "from itertools import cycle, islice\n",
    "import nltk\n",
    "from collections import Counter\n",
    "from nltk.probability import FreqDist\n",
    "from nltk.tokenize import word_tokenize\n",
    "from string import punctuation\n",
    "punctuation = set(punctuation)"
   ]
  },
  {
   "cell_type": "code",
   "execution_count": null,
   "id": "cdbe6da1",
   "metadata": {},
   "outputs": [],
   "source": [
    "#nltk.downloader.download('maxent_ne_chunker')\n",
    "#nltk.downloader.download('words')\n",
    "#nltk.downloader.download('treebank')\n",
    "#nltk.downloader.download('maxent_treebank_pos_tagger')\n",
    "#nltk.downloader.download('punkt')\n",
    "#nltk.download('averaged_perceptron_tagger')"
   ]
  },
  {
   "cell_type": "code",
   "execution_count": null,
   "id": "99e8cb0b",
   "metadata": {},
   "outputs": [],
   "source": [
    "# I'm putting the handles in a list to iterate through below\n",
    "band_handles = ['thursdayband', 'circasurvive', 'MCRofficial', 'Coheed']\n",
    "\n",
    "\n",
    "# This will iterate through each Twitter handle that we're collecting from\n",
    "for screen_name in band_handles:\n",
    "    \n",
    "    # Tells Tweepy we want information on the handle we're collecting from\n",
    "    # The next line specifies which information we want, which in this case is the number of followers \n",
    "    user = api.get_user(screen_name=screen_name) \n",
    "    followers_count = user.followers_count\n",
    "\n",
    "    # Let's see roughly how long it will take to grab all the follower IDs. \n",
    "    print(f'''\n",
    "    @{screen_name} has {followers_count} followers. \n",
    "    That will take roughly {followers_count/(5000*60):.0f} hours and {followers_count/(5000):.2f} minutes\n",
    "    ''')\n",
    "    "
   ]
  },
  {
   "cell_type": "code",
   "execution_count": null,
   "id": "df0f8d0c",
   "metadata": {},
   "outputs": [],
   "source": [
    "id_dict = {'thursdayband' : []\n",
    "          'circasurvive' : [],\n",
    "          'MCRofficial' : [],\n",
    "          'Coheed' : []}\n",
    "\n",
    "start_time = datetime.datetime.now()\n",
    "\n",
    "for handle in id_dict.keys():\n",
    "\n",
    "    for page in tweepy.Cursor(api.get_follower_ids,\n",
    "                              compression = True,\n",
    "                              screen_name=handle).pages():\n",
    "        \n",
    "        id_dict[handle].extend(page)\n",
    "        \n",
    "end_time = datetime.datetime.now()\n",
    "elapsed_time = end_time - start_time\n",
    "print(elapsed_time)"
   ]
  },
  {
   "cell_type": "code",
   "execution_count": null,
   "id": "ac317ec4",
   "metadata": {},
   "outputs": [],
   "source": [
    "def get_screen_names(list_of_ids, list_for_screen_names):\n",
    "    start=0 #we have feed the API 100 ID's at a time, this will iterate through them\n",
    "    end=0\n",
    "    followers=[]\n",
    "    while end-1 <= len(list_of_ids): #quit when we get past the end of our list\n",
    "        end += 100 #update the end of our slice\n",
    "        if end <= len(list_of_ids): #split into if else statement to slice correctly\n",
    "            try:\n",
    "                followers_temp = api.lookup_users(user_id = list_of_ids[start:end])  \n",
    "            except tweepy.TweepError as err:\n",
    "                if err.code == 103:\n",
    "                    print('sleeping, 900 seconds')\n",
    "                    time.sleep(900)\n",
    "        else:\n",
    "            try:\n",
    "                followers_temp = api.lookup_users(user_id = list_of_ids[start:])   \n",
    "            except tweepy.TweepError as err:\n",
    "                if err.code == 103:\n",
    "                    print('sleeping, 900 seconds')\n",
    "                    time.sleep(900)\n",
    "        followers.extend(followers_temp)\n",
    "        start = end #update our starting slice index for next loop\n",
    "    list_for_screen_names.extend(followers)"
   ]
  },
  {
   "cell_type": "code",
   "execution_count": null,
   "id": "a5af9f9d",
   "metadata": {},
   "outputs": [],
   "source": [
    "user_dict = {'thursdayband': []\n",
    "            'circasurvive' : [],\n",
    "            'MCRofficial' : [],\n",
    "            'Coheed' : []}\n",
    "\n",
    "\n",
    "for handle in user_dict:\n",
    "    get_screen_names(id_dict[handle], user_dict[handle])"
   ]
  },
  {
   "cell_type": "code",
   "execution_count": null,
   "id": "228e3898",
   "metadata": {},
   "outputs": [],
   "source": [
    "headers = ['screen_name', 'description', 'location', 'follower_count']\n",
    "\n",
    "for band in user_dict.keys():\n",
    "\n",
    "    with open(f'{band}_followers_new.txt','w', encoding='utf-8') as out_file:\n",
    "        out_file.write('\\t'.join(headers) + '\\n')\n",
    "\n",
    "        for idx, user in enumerate(user_dict[band]):\n",
    "            description = str(user.description).replace('\\t',' ').replace('\\n',' ').replace('\\r',' ')\n",
    "            followers_count = user.followers_count\n",
    "            outline = [user.screen_name, description, user.location, followers_count]\n",
    "\n",
    "            out_file.write('\\t'.join([str(item) for item in outline]) + '\\n')\n",
    "    \n",
    "            "
   ]
  },
  {
   "cell_type": "markdown",
   "id": "508ec2cd",
   "metadata": {},
   "source": [
    "### Finding Locations"
   ]
  },
  {
   "cell_type": "code",
   "execution_count": null,
   "id": "39e1fdb6",
   "metadata": {},
   "outputs": [],
   "source": [
    "for band in user_dict.keys():\n",
    "\n",
    "    with open(f'{band}_followers_descriptions.txt','w', encoding='utf-8') as out_file:\n",
    "        headers = ['screen_name', 'description']\n",
    "        out_file.write('\\t'.join(headers) + '\\n')\n",
    "\n",
    "        for idx, user in enumerate(user_dict[band]):\n",
    "            description = str(user.description).replace('\\t',' ').replace('\\n',' ').replace('\\r',' ')\n",
    "            outline = [user.screen_name, description]\n",
    "            \n",
    "            out_file.write('\\t'.join([str(item) for item in outline]) + '\\n')           \n",
    "\n",
    "    with open(f'{band}_followers_locations.txt','w', encoding='utf-8') as out_file:\n",
    "        headers = ['screen_name', 'location'] \n",
    "        out_file.write('\\t'.join(headers) + '\\n')\n",
    "        \n",
    "        for idx, user in enumerate(user_dict[band]):\n",
    "            location = user.location\n",
    "            outline = [user.screen_name, location]\n",
    "            \n",
    "            out_file.write('\\t'.join([str(item) for item in outline]) + '\\n')"
   ]
  },
  {
   "cell_type": "code",
   "execution_count": null,
   "id": "75358228",
   "metadata": {},
   "outputs": [],
   "source": [
    "# The data took about 12 hours to pull in. It was written out to serve as a checkpoint\n",
    "\n",
    "\n",
    "thursday_locations_df = pd.read_csv('thursdayband_followers_locations.txt', sep = '\\t',\n",
    "                           on_bad_lines = 'skip', keep_default_na = False)\n",
    "\n",
    "circa_survive_locations_df = pd.read_csv('circasurvive_followers_locations.txt', sep = '\\t',\n",
    "                           on_bad_lines = 'skip', keep_default_na = False)\n",
    "\n",
    "mcr_locations_df = pd.read_csv('MCRofficial_followers_locations.txt', sep = '\\t',\n",
    "                           on_bad_lines = 'skip', keep_default_na = False)\n",
    "\n",
    "coheed_locations_df = pd.read_csv('Coheed_followers_locations.txt', sep = '\\t',\n",
    "                           on_bad_lines = 'skip', keep_default_na = False)\n",
    "\n",
    "thursday_locations = [loc.lower() for loc in thursday_locations_df['location'] if loc != '']\n",
    "\n",
    "circa_locations = [loc.lower() for loc in circa_survive_locations_df['location'] if loc != '']\n",
    "\n",
    "mcr_locations = [loc.lower() for loc in mcr_locations_df['location'] if loc != '']\n",
    "\n",
    "coheed_locations = [loc.lower() for loc in coheed_locations_df['location'] if loc != '']"
   ]
  },
  {
   "cell_type": "code",
   "execution_count": null,
   "id": "9b8e2153",
   "metadata": {},
   "outputs": [],
   "source": [
    "def get_locations(input_locations, output_locations):\n",
    "    for ind, loc in enumerate(input_locations):\n",
    "        place_entity = locationtagger.find_locations(text = loc)\n",
    "    \n",
    "        if place_entity.countries or place_entity.cities or place_entity.regions:\n",
    "            output_locations.append(loc.lower())\n",
    "        else:\n",
    "            pass\n",
    "        \n",
    "        if ind % 100 == 0:\n",
    "            print(ind)"
   ]
  },
  {
   "cell_type": "code",
   "execution_count": null,
   "id": "0d9bfc9d",
   "metadata": {},
   "outputs": [],
   "source": [
    "thursday_locations_update = []\n",
    "coheed_locations_update = []\n",
    "circa_locations_update = []\n",
    "mcr_locations_update = []\n",
    "\n",
    "get_locations(thursday_locations, thursday_locations_update)\n",
    "print('Done with Thursday')\n",
    "\n",
    "get_locations(circa_locations, circa_locations_update)\n",
    "print('Done with Circa Survive')\n",
    "\n",
    "get_locations(coheed_locations, coheed_locations_update)\n",
    "print('Done with Coheed and Cambria')\n",
    "\n",
    "get_locations(mcr_locations, mcr_locations_update)\n",
    "print('Moving to next band')"
   ]
  },
  {
   "cell_type": "markdown",
   "id": "b21a66dd",
   "metadata": {},
   "source": [
    "# Calling in lists of locations"
   ]
  },
  {
   "cell_type": "code",
   "execution_count": null,
   "id": "768ec1e4",
   "metadata": {},
   "outputs": [],
   "source": [
    "thursday_locations_df = pd.DataFrame(thursday_locations_update, columns = 'Locations')\n",
    "circa_locations_df = pd.DataFrame(circa_locations_update, columns = 'Locations')\n",
    "coheed_locations_df = pd.DataFrame(coheed_locations_update, columns = 'Locations')\n",
    "mcr_locations_df =pd.DataFrame(mcr_locations_update, columns = 'Locations')"
   ]
  },
  {
   "cell_type": "code",
   "execution_count": null,
   "id": "7deb65e5",
   "metadata": {},
   "outputs": [],
   "source": [
    "#Another checkpoint\n",
    "\n",
    "#thursday_locations_df.to_csv('thursday_locations.csv')\n",
    "#circa_locations_df.to_csv('circa_locations.csv')\n",
    "#coheed_locations_df.to_csv('coheed_locations.csv')\n",
    "#mcr_locations_df.to_csv('mcr_locations.csv')"
   ]
  },
  {
   "cell_type": "code",
   "execution_count": 7,
   "id": "20e66d4f",
   "metadata": {},
   "outputs": [],
   "source": [
    "thursday_locations_df = pd.read_csv('thursday_locations.csv')\n",
    "circa_locations_df = pd.read_csv('circa_locations.csv')\n",
    "coheed_locations_df = pd.read_csv('coheed_locations.csv')\n",
    "mcr_locations_df = pd.read_csv('mcr_locations.csv')"
   ]
  },
  {
   "cell_type": "code",
   "execution_count": 11,
   "id": "c2f7af31",
   "metadata": {},
   "outputs": [],
   "source": [
    "thursday_locations = thursday_locations_df['0'].tolist()\n",
    "circa_locations = circa_locations_df['0'].tolist()\n",
    "coheed_locations = coheed_locations_df['0'].tolist()\n",
    "mcr_locations = mcr_locations_df['0'].tolist()"
   ]
  },
  {
   "cell_type": "code",
   "execution_count": 12,
   "id": "8f5c1cf5",
   "metadata": {},
   "outputs": [],
   "source": [
    "total_locations = []\n",
    "for i in thursday_locations:\n",
    "    total_locations.append(i)\n",
    "for i in circa_locations:\n",
    "    total_locations.append(i)\n",
    "for i in coheed_locations:\n",
    "    total_locations.append(i)\n",
    "for i in mcr_locations:\n",
    "    total_locations.append(i)"
   ]
  },
  {
   "cell_type": "code",
   "execution_count": null,
   "id": "a18ca52a",
   "metadata": {},
   "outputs": [],
   "source": [
    "state_abbrevs = ['AL', 'AK', 'AZ', 'AR', 'CA', 'CO', 'CT',\n",
    "               'DE', 'FL', 'GA', 'HI', 'ID', 'IL', 'IN', 'IA', 'KS',\n",
    "               'KY', 'LA', 'ME', 'MD', 'MA', 'MI', 'MN', 'MS', 'MO', 'MT',\n",
    "                'NE', 'NV', 'NH', 'NJ', 'NM', 'NY', 'NC', 'ND', 'OH', 'OK', 'OR',\n",
    "                'PA', 'RI', 'SC', 'SD', 'TN', 'TX', 'UT', 'VT', 'VA',\n",
    "                'WA', 'WV', 'WI', 'WY']"
   ]
  },
  {
   "cell_type": "code",
   "execution_count": null,
   "id": "acc18be0",
   "metadata": {},
   "outputs": [],
   "source": [
    "thursday_loc_dict = {'cities': [],\n",
    "                'states' : [], \n",
    "                'countries' : []}\n",
    "    \n",
    "circa_loc_dict = {'cities': [],\n",
    "                     'states' : [], \n",
    "                     'countries' : []}\n",
    "    \n",
    "mcr_loc_dict = {'cities': [],\n",
    "                'states' : [],\n",
    "                'countries' : []}\n",
    "    \n",
    "coheed_loc_dict = {'cities': [],\n",
    "                      'states' : [], \n",
    "                      'countries' : []}"
   ]
  },
  {
   "cell_type": "code",
   "execution_count": null,
   "id": "2039267f",
   "metadata": {},
   "outputs": [],
   "source": [
    "def get_band_location_dict(band_locations, band_dict):\n",
    "    \n",
    "    for loc in band_locations:\n",
    "        place_entity = locationtagger.find_locations(text = loc)\n",
    "        city = place_entity.cities\n",
    "        country = place_entity.countries\n",
    "        state = place_entity.regions\n",
    "        \n",
    "        if country:\n",
    "            pass\n",
    "            #country = \"\".join([ch for ch in country if ch not in punctuation])\n",
    "            #band_dict['countries'].extend(country)\n",
    "            #print('appended ' + str(country) + ' to countries')\n",
    "        \n",
    "        if state:\n",
    "            band_dict['states'].extend(state)\n",
    "            print('appended ' + str(state) + ' to states')\n",
    "            continue\n",
    "              \n",
    "        if city:\n",
    "            band_dict['cities'].extend(city)\n",
    "            print('appended ' + str(city) + ' to cities')\n",
    "    \n",
    "        try:\n",
    "            abbrev =  loc.split(', ', 1)[1]\n",
    "            abbrev = abbrev.upper()\n",
    "            if abbrev in state_names:\n",
    "                band_dict['states'].append(abbrev)\n",
    "                print('appended ' + str(abbrev) + ' to states' )\n",
    "        except IndexError:\n",
    "            pass\n",
    "        \n",
    "    \n",
    "        "
   ]
  },
  {
   "cell_type": "code",
   "execution_count": null,
   "id": "4c08f80a",
   "metadata": {},
   "outputs": [],
   "source": [
    "get_band_location_dict(thursday_locations, thursday_loc_dict)"
   ]
  },
  {
   "cell_type": "code",
   "execution_count": null,
   "id": "a18be9e5",
   "metadata": {},
   "outputs": [],
   "source": [
    "get_band_location_dict(circa_locations, circa_loc_dict)"
   ]
  },
  {
   "cell_type": "code",
   "execution_count": null,
   "id": "60a8a8bb",
   "metadata": {},
   "outputs": [],
   "source": [
    "get_band_location_dict(coheed_locations, coheed_loc_dict)"
   ]
  },
  {
   "cell_type": "code",
   "execution_count": null,
   "id": "60b94f95",
   "metadata": {
    "scrolled": true
   },
   "outputs": [],
   "source": [
    "get_band_location_dict(mcr_locations, mcr_loc_dict)"
   ]
  },
  {
   "cell_type": "markdown",
   "id": "4e654591",
   "metadata": {},
   "source": [
    "## Cleaning states, send it to csv/txt"
   ]
  },
  {
   "cell_type": "code",
   "execution_count": null,
   "id": "e99c6063",
   "metadata": {},
   "outputs": [],
   "source": [
    "def clean_states_list(band_states):\n",
    "    \n",
    "    state_abbrevs = ['AL', 'AK', 'AZ', 'AR', 'CA', 'CO', 'CT',\n",
    "               'DE', 'FL', 'GA', 'HI', 'ID', 'IL', 'IN', 'IA', 'KS',\n",
    "               'KY', 'LA', 'ME', 'MD', 'MA', 'MI', 'MN', 'MS', 'MO', 'MT',\n",
    "                'NE', 'NV', 'NH', 'NJ', 'NM', 'NY', 'NC', 'ND', 'OH', 'OK', 'OR',\n",
    "                'PA', 'RI', 'SC', 'SD', 'TN', 'TX', 'UT', 'VT', 'VA',\n",
    "                'WA', 'WV', 'WI', 'WY']\n",
    "    \n",
    "    for i in range(len(band_states)):\n",
    "\n",
    "        if band_states[i] == 'Alabama':\n",
    "            band_states[i] = 'AL'\n",
    "        if band_states[i] == 'Alaska':\n",
    "            band_states[i] = 'AK'\n",
    "        if band_states[i] == 'Arizona':\n",
    "            band_states[i] = 'AZ'\n",
    "        if band_states[i] == 'Arkansas':\n",
    "            band_states[i] = 'AR'\n",
    "        if band_states[i] == 'California':\n",
    "            band_states[i] = 'CA'\n",
    "        if band_states[i] == 'Colorado':\n",
    "            band_states[i] = 'CO'\n",
    "        if band_states[i] == 'Connecticut':\n",
    "            band_states[i] = 'CT'\n",
    "        if band_states[i] == 'Delaware':\n",
    "            band_states[i] = 'DE'\n",
    "        if band_states[i] == 'Florida':\n",
    "            band_states[i] = 'FL'\n",
    "        if band_states[i] == 'Georgia':\n",
    "            band_states[i] = 'GA'\n",
    "        if band_states[i] == 'Hawaii':\n",
    "            band_states[i] = 'HI'\n",
    "        if band_states[i] == 'Idaho':\n",
    "            band_states[i] = 'ID'\n",
    "        if band_states[i] == 'Illinois':\n",
    "            band_states[i] = 'IL'\n",
    "        if band_states[i] == 'Indiana':\n",
    "            band_states[i] = 'IN'\n",
    "        if band_states[i] == 'Iowa':\n",
    "            band_states[i] = 'IA'\n",
    "        if band_states[i] == 'Kansas':\n",
    "            band_states[i] = 'KS'\n",
    "        if band_states[i] == 'Kentucky':\n",
    "            band_states[i] = 'KY'\n",
    "        if band_states[i] == 'Louisiana':\n",
    "            band_states[i] = 'LA'\n",
    "        if band_states[i] == 'Maine':\n",
    "            band_states[i] = 'ME'\n",
    "        if band_states[i] == 'Maryland':\n",
    "            band_states[i] = 'MD'\n",
    "        if band_states[i] == 'Massachusetts':\n",
    "            band_states[i] = 'MA'\n",
    "        if band_states[i] == 'Michigan':\n",
    "            band_states[i] = 'MI'\n",
    "        if band_states[i] == 'Minnesota':\n",
    "            band_states[i] = 'MN'\n",
    "        if band_states[i] == 'Mississippi':\n",
    "            band_states[i] = 'MS'\n",
    "        if band_states[i] == 'Missouri':\n",
    "            band_states[i] = 'MO'\n",
    "        if band_states[i] == 'Montana':\n",
    "            band_states[i] = 'MT'\n",
    "        if band_states[i] == 'Nebraska':\n",
    "            band_states[i] = 'NE'\n",
    "        if band_states[i] == 'Nevada':\n",
    "            band_states[i] = 'NV'\n",
    "        if band_states[i] == 'New Hampshire':\n",
    "            band_states[i] = 'NH'\n",
    "        if band_states[i] == 'New Jersey':\n",
    "            band_states[i] = 'NJ'\n",
    "        if band_states[i] == 'New Mexico':\n",
    "            band_states[i] = 'NM'\n",
    "        if band_states[i] == 'New York':\n",
    "            band_states[i] = 'NY'\n",
    "        if band_states[i] == 'North Carolina':\n",
    "            band_states[i] = 'NC'\n",
    "        if band_states[i] == 'North Dakota':\n",
    "            band_states[i] = 'ND'\n",
    "        if band_states[i] == 'Ohio':\n",
    "            band_states[i] = 'OH'\n",
    "        if band_states[i] == 'Oklahoma':\n",
    "            band_states[i] = 'OK'\n",
    "        if band_states[i] == 'Oregon':\n",
    "            band_states[i] = 'OR'\n",
    "        if band_states[i] == 'Pennsylvania':\n",
    "            band_states[i] = 'PA'\n",
    "        if band_states[i] == 'Rhode Island':\n",
    "            band_states[i] = 'RI'\n",
    "        if band_states[i] == 'South Carolina':\n",
    "            band_states[i] = 'SC'\n",
    "        if band_states[i] == 'South Dakota':\n",
    "            band_states[i] = 'SD'\n",
    "        if band_states[i] == 'Tennessee':\n",
    "            band_states[i] = 'TN'\n",
    "        if band_states[i] == 'Texas':\n",
    "            band_states[i] = 'TX'\n",
    "        if band_states[i] == 'Utah':\n",
    "            band_states[i] = 'UT'\n",
    "        if band_states[i] == 'Vermont':\n",
    "            band_states[i] = 'VT'\n",
    "        if band_states[i] == 'Virginia':\n",
    "            band_states[i] = 'VA'\n",
    "        if band_states[i] == 'Washington':\n",
    "            band_states[i] = 'WA'\n",
    "        if band_states[i] == 'West Virginia':\n",
    "            band_states[i] = 'WV'\n",
    "        if band_states[i] == 'Wisconsin':\n",
    "            band_states[i] = 'WI'\n",
    "        if band_states[i] == 'Wyoming':\n",
    "            band_states[i] = 'WY'\n",
    "        \n",
    "        if band_states[i] not in state_abbrevs:\n",
    "            pass"
   ]
  },
  {
   "cell_type": "code",
   "execution_count": null,
   "id": "adc321ee",
   "metadata": {},
   "outputs": [],
   "source": [
    "thursday_states = thursday_loc_dict['states']\n",
    "circa_states = circa_loc_dict['states']\n",
    "coheed_states = coheed_loc_dict['states']\n",
    "mcr_states = mcr_loc_dict['states']\n",
    "#mcr_states = pd.read_csv('mcr_states.txt', sep=\"\\t\", header=None)\n",
    "#mcr_states = mcr_states[0].to_list()\n",
    "\n",
    "\n",
    "clean_states_list(thursday_states)\n",
    "clean_states_list(circa_states)\n",
    "clean_states_list(coheed_states)\n",
    "clean_states_list(mcr_states)"
   ]
  },
  {
   "cell_type": "code",
   "execution_count": null,
   "id": "b1d261a8",
   "metadata": {},
   "outputs": [],
   "source": [
    "total_states = []\n",
    "for i in circa_states:\n",
    "    total_states.append(i)\n",
    "\n",
    "for i in coheed_states:\n",
    "    total_states.append(i)\n",
    "    \n",
    "for i in mcr_states:\n",
    "    total_states.append(i)\n",
    "    \n",
    "for i in thursday_states:\n",
    "    total_states.append(i)"
   ]
  },
  {
   "cell_type": "code",
   "execution_count": null,
   "id": "0b255b7e",
   "metadata": {},
   "outputs": [],
   "source": [
    "thursday_states_df = pd.DataFrame(thursday_states)\n",
    "circa_states_df = pd.DataFrame(circa_states)\n",
    "coheed_states_df = pd.DataFrame(coheed_states)\n",
    "mcr_states_df = pd.DataFrame(mcr_states)"
   ]
  },
  {
   "cell_type": "code",
   "execution_count": null,
   "id": "d8b708da",
   "metadata": {},
   "outputs": [],
   "source": [
    "#States written to txt/csv to transfer over to R for Indexing\n",
    "\n",
    "thursday_states_df.to_csv('thursday_states.csv')\n",
    "circa_states_df.to_csv('circa_states.csv')\n",
    "coheed_states_df.to_csv('coheed_states.csv')\n",
    "mcr_states_df.to_csv('mcr_states.csv')\n",
    "\n",
    "textfile = open(\"thursday_states.txt\", \"w\", encoding = 'utf-8')\n",
    "for element in thursday_states:\n",
    "    textfile.write(element + \"\\n\")\n",
    "textfile.close()\n",
    "\n",
    "\n",
    "textfile = open(\"circa_states.txt\", \"w\", encoding = 'utf-8')\n",
    "for element in circa_states:\n",
    "    textfile.write(element + \"\\n\")\n",
    "textfile.close()\n",
    "\n",
    "textfile = open(\"coheed_states.txt\", \"w\", encoding = 'utf-8')\n",
    "for element in coheed_states:\n",
    "    textfile.write(element + \"\\n\")\n",
    "textfile.close()\n",
    "\n",
    "textfile = open(\"mcr_states_clean.txt\", \"w\", encoding = 'utf-8')\n",
    "for element in mcr_states:\n",
    "    textfile.write(element + \"\\n\")\n",
    "textfile.close()"
   ]
  },
  {
   "cell_type": "code",
   "execution_count": null,
   "id": "5a449a2b",
   "metadata": {},
   "outputs": [],
   "source": [
    "#mcr_states_df = pd.DataFrame(mcr_loc_dict['states'])\n",
    "#mcr_states_df = mcr_states_df.rename(columns = {\"0\":\"Locations\"})\n",
    "#mcr_states = mcr_states_df[0].to_list()\n",
    "#mcr_states_df.to_csv('mcr_states.csv')\n",
    "\n",
    "#textfile = open(\"mcr_states.txt\", \"w\", encoding = 'utf-8')\n",
    "#for element in mcr_states:\n",
    "#    textfile.write(element + \"\\n\")\n",
    "#textfile.close()"
   ]
  },
  {
   "cell_type": "markdown",
   "id": "4ef53deb",
   "metadata": {},
   "source": [
    "### Data was transferred over to R and saved to a txt file"
   ]
  },
  {
   "cell_type": "code",
   "execution_count": null,
   "id": "439b1983",
   "metadata": {},
   "outputs": [],
   "source": [
    "locations_count_table = pd.read_csv('locations_counts.txt', sep = '\\t')"
   ]
  },
  {
   "cell_type": "code",
   "execution_count": null,
   "id": "ad912c32",
   "metadata": {},
   "outputs": [],
   "source": [
    "locations_count_table = locations_count_table.rename(columns={\"locations\": \"State\"}) "
   ]
  },
  {
   "cell_type": "code",
   "execution_count": null,
   "id": "f05f9c66",
   "metadata": {},
   "outputs": [],
   "source": [
    "states_cnt_df = locations_count_table[locations_count_table['State'].map(len) == 2]"
   ]
  },
  {
   "cell_type": "code",
   "execution_count": null,
   "id": "d739de22",
   "metadata": {},
   "outputs": [],
   "source": [
    "states_cnt_df['Total'] = states_cnt_df.sum(axis=1)"
   ]
  },
  {
   "cell_type": "code",
   "execution_count": null,
   "id": "ea4beaf6",
   "metadata": {},
   "outputs": [],
   "source": [
    "states_index_table = pd.DataFrame()\n",
    "states_index_table['State'] = states_cnt_df['State']\n",
    "states_index_table['Thursday'] = states_cnt_df['thursday']/len(thursday_states)\n",
    "states_index_table['Circa Survive'] = states_cnt_df['circa']/len(circa_states)\n",
    "states_index_table['Coheed and Cambria'] = states_cnt_df['coheed']/len(coheed_states)\n",
    "states_index_table['My Chemical Romance'] = states_cnt_df['mcr']/len(mcr_states)\n",
    "states_index_table['Total'] = states_cnt_df['Total'].apply(lambda x: x/len(total_states))"
   ]
  },
  {
   "cell_type": "code",
   "execution_count": null,
   "id": "64d63435",
   "metadata": {},
   "outputs": [],
   "source": [
    "states_cnt_df = states_cnt_df.set_index('State')"
   ]
  },
  {
   "cell_type": "code",
   "execution_count": null,
   "id": "04a6f6ef",
   "metadata": {},
   "outputs": [],
   "source": [
    "states_index_table = states_index_table.set_index('State')"
   ]
  },
  {
   "cell_type": "code",
   "execution_count": null,
   "id": "20fb08a0",
   "metadata": {},
   "outputs": [],
   "source": [
    "states_index_table"
   ]
  },
  {
   "cell_type": "code",
   "execution_count": null,
   "id": "48644cdd",
   "metadata": {},
   "outputs": [],
   "source": [
    "thursday_top_10 = states_index_table.sort_values(by = 'Thursday', ascending = False)\n",
    "thursday_top_10 = thursday_top_10.head(10)"
   ]
  },
  {
   "cell_type": "code",
   "execution_count": null,
   "id": "a1c27ec8",
   "metadata": {},
   "outputs": [],
   "source": [
    "states_cnt_df.to_csv('state_counts_table.csv')"
   ]
  },
  {
   "cell_type": "code",
   "execution_count": null,
   "id": "5b5617dd",
   "metadata": {},
   "outputs": [],
   "source": [
    "us_states = ['alabama', 'alaska', 'arizona', 'arkansas', 'california', 'colorado', 'connecticut',\n",
    "             'delaware', 'florida', 'georgia', 'hawaii', 'idaho', 'illinois', 'indiana', 'iowa', 'kansas', 'kentucky',\n",
    "             'louisiana', 'maine', 'maryland', 'massachusetts', 'michigan', 'minnesota', 'mississippi', 'missouri',\n",
    "             'montana', 'nebraska', 'nevada', 'new hampshire', 'new jersey', 'new mexico', 'new york', 'north carolina',\n",
    "             'north dakota', 'ohio', 'oklahoma', 'oregon', 'pennsylvania', 'rhode island', 'south carolina', 'south dakota',\n",
    "             'tennessee', 'texas', 'utah', 'vermont', 'virginia', 'washington', 'west virginia', 'wisconsin', 'wyoming',\n",
    "            'usa', 'england']"
   ]
  },
  {
   "cell_type": "code",
   "execution_count": null,
   "id": "3367f971",
   "metadata": {},
   "outputs": [],
   "source": [
    "# I was going to do something with the cities but decided not to, and also didnt want to delete the code\n",
    "\n",
    "#fd_thursday_cities = FreqDist([w.lower() for w in thursday_cities\n",
    "#                     if w.lower() not in us_states])\n",
    "\n",
    "fd_thursday_states = FreqDist([w.lower() for w in thursday_states])\n",
    "\n",
    "#fd_thursday_countries = FreqDist([w.lower() for w in thursday_countries\n",
    "#                        if w.lower != 'united states'])\n",
    "\n",
    "\n",
    "\n",
    "#fd_circa_cities = FreqDist([w.lower() for w in circa_cities\n",
    "#                     if w.lower() not in us_states])\n",
    "\n",
    "fd_circa_states = FreqDist([w.lower() for w in circa_states])\n",
    "\n",
    "#fd_circa_countries = FreqDist([w.lower() for w in circa_countries\n",
    "#                        if w.lower != 'united states'])\n",
    "\n",
    "\n",
    "\n",
    "#fd_coheed_cities = FreqDist([w.lower() for w in coheed_cities\n",
    "#                     if w.lower() not in us_states])\n",
    "\n",
    "fd_coheed_states = FreqDist([w.lower() for w in coheed_states])\n",
    "\n",
    "#fd_coheed_countries = FreqDist([w.lower() for w in coheed_countries\n",
    "#                        if w.lower != 'united states'])\n",
    "\n",
    "#fd_mcr_cities = FreqDist([w.lower() for w in mcr_cities\n",
    "#                     if w.lower() not in us_states])\n",
    "\n",
    "fd_mcr_states = FreqDist([w.lower() for w in mcr_states])\n",
    "\n",
    "#fd_mcr_countries = FreqDist([w.lower() for w in mcr_countries\n",
    "#                        if w.lower != 'united states'])\n"
   ]
  },
  {
   "cell_type": "markdown",
   "id": "332f8405",
   "metadata": {},
   "source": [
    "### Extracting Gender"
   ]
  },
  {
   "cell_type": "code",
   "execution_count": null,
   "id": "ac86cbe5",
   "metadata": {},
   "outputs": [],
   "source": [
    "#Reimported because some punctuation marks were deleted\n",
    "from string import punctuation\n",
    "punctuation = set(punctuation)"
   ]
  },
  {
   "cell_type": "code",
   "execution_count": 5,
   "id": "5c096fb7",
   "metadata": {},
   "outputs": [],
   "source": [
    "thursday_descriptions_df = pd.read_csv('thursdayband_followers_descriptions.txt', sep = '\\t',\n",
    "                              on_bad_lines = 'skip', keep_default_na = False)\n",
    "\n",
    "circa_survive_descriptions_df = pd.read_csv('circasurvive_followers_descriptions.txt', sep = '\\t',\n",
    "                              on_bad_lines = 'skip', keep_default_na = False)\n",
    "\n",
    "mcr_descriptions_df = pd.read_csv('MCRofficial_followers_descriptions.txt', sep = '\\t',\n",
    "                              on_bad_lines = 'skip', keep_default_na = False)\n",
    "\n",
    "coheed_descriptions_df = pd.read_csv('coheed_followers_descriptions.txt', sep = '\\t',\n",
    "                              on_bad_lines = 'skip', keep_default_na = False)\n",
    "\n",
    "thursday_descriptions = [desc for desc in thursday_descriptions_df['description'] if desc != '']\n",
    "\n",
    "circa_descriptions = [desc for desc in circa_survive_descriptions_df['location'] if desc != '']\n",
    "\n",
    "mcr_descriptions = [desc for desc in mcr_descriptions_df['location'] if desc != '']\n",
    "\n",
    "coheed_descriptions = [desc for desc in coheed_descriptions_df['location'] if desc != '']"
   ]
  },
  {
   "cell_type": "code",
   "execution_count": 6,
   "id": "19d48041",
   "metadata": {},
   "outputs": [],
   "source": [
    "thursday_descriptions_list = []\n",
    "circa_descriptions_list = []\n",
    "coheed_descriptions_list = []\n",
    "mcr_descriptions_list = []\n",
    "\n",
    "for text in thursday_descriptions:\n",
    "    thursday_descriptions_list.append(text)\n",
    "    \n",
    "for text in circa_descriptions:\n",
    "    circa_descriptions_list.append(text)\n",
    "    \n",
    "for text in coheed_descriptions:\n",
    "    coheed_descriptions_list.append(text)\n",
    "    \n",
    "for text in mcr_descriptions:\n",
    "    mcr_descriptions_list.append(text)"
   ]
  },
  {
   "cell_type": "code",
   "execution_count": 7,
   "id": "04b93c61",
   "metadata": {},
   "outputs": [],
   "source": [
    "gender_pronouns = ['he', 'him', 'his', 'husband', 'boyfriend', 'guy', 'he/him', 'he/him/his','father',\n",
    "                  'she', 'her', 'hers', 'wife', 'girl', 'girlfriend', 'she/her', 'she/her/hers', 'mother',\n",
    "                  'they', 'them', 'theirs', 'they/them', 'they/them/theirs',\n",
    "                  'ze', 'hir', 'zir', 'hirs', 'zirs',\n",
    "                  'he/she/they', 'they/she', 'she/they', 'she/them', 'he/they', 'they/he' 'he/them']"
   ]
  },
  {
   "cell_type": "code",
   "execution_count": 8,
   "id": "6be421c0",
   "metadata": {},
   "outputs": [],
   "source": [
    "# This was removed because we want to keep combinations of pronouns like he/his\n",
    "punctuation.remove('/')"
   ]
  },
  {
   "cell_type": "code",
   "execution_count": 9,
   "id": "95c16991",
   "metadata": {},
   "outputs": [],
   "source": [
    "gender_pronoun_counter_thursday = []\n",
    "gender_pronoun_counter_circa = []\n",
    "gender_pronoun_counter_coheed = []\n",
    "gender_pronoun_counter_mcr = []"
   ]
  },
  {
   "cell_type": "code",
   "execution_count": 40,
   "id": "253cc766",
   "metadata": {},
   "outputs": [],
   "source": [
    "#for description in total_descriptions_list:\n",
    "#    description_lc = description.lower()\n",
    "#    description_punc = \"\".join([ch for ch in description_lc if ch not in punctuation])\n",
    "#    text_tokenize = word_tokenize(description_punc)\n",
    "    \n",
    "#    for w in text_tokenize:\n",
    "#        if w in gender_pronouns:\n",
    "#            gender_pronoun_counter_total.append(w)\n",
    "#        else:\n",
    "#            pass"
   ]
  },
  {
   "cell_type": "code",
   "execution_count": 11,
   "id": "8b0afdda",
   "metadata": {},
   "outputs": [],
   "source": [
    "def get_description(descriptions_list, pronoun_counter_target):\n",
    "    \n",
    "    \n",
    "    for description in descriptions_list:\n",
    "        description_lc = description.lower()\n",
    "        description_punc = \"\".join([ch for ch in description_lc if ch not in punctuation])\n",
    "        text_tokenize = word_tokenize(description_punc)\n",
    "    \n",
    "        for w in text_tokenize:\n",
    "            if w in gender_pronouns:\n",
    "                pronoun_counter_target.append(w)\n",
    "            else:\n",
    "                pass"
   ]
  },
  {
   "cell_type": "code",
   "execution_count": 12,
   "id": "06202fb7",
   "metadata": {},
   "outputs": [],
   "source": [
    "get_description(thursday_descriptions, gender_pronoun_counter_thursday)\n",
    "get_description(circa_descriptions, gender_pronoun_counter_circa)\n",
    "get_description(coheed_descriptions, gender_pronoun_counter_coheed)\n",
    "get_description(mcr_descriptions_list, gender_pronoun_counter_mcr)"
   ]
  },
  {
   "cell_type": "code",
   "execution_count": 13,
   "id": "cf0913e2",
   "metadata": {},
   "outputs": [],
   "source": [
    "pronoun_dict = {'male' : ['he', 'him', 'his', 'husband', 'boyfriend', 'guy', 'he/him', 'he/him/his','father'],\n",
    "                'female' : ['she', 'her', 'hers', 'wife', 'girl', 'girlfriend', 'she/her', 'she/her/hers', 'mother'],\n",
    "                'other' : ['ze', 'hir', 'zir', 'hirs', 'zirs', 'he/she/they', 'they/she', 'she/they', 'she/them',\n",
    "                            'he/they', 'they/he' 'he/them']}\n",
    "\n",
    "pronoun_counter = {'male' : [],\n",
    "                  'female' : [],\n",
    "                  'other' : []}"
   ]
  },
  {
   "cell_type": "code",
   "execution_count": 14,
   "id": "bc75fdff",
   "metadata": {},
   "outputs": [],
   "source": [
    "thursday_male = []\n",
    "thursday_female = []\n",
    "thursday_other = []\n",
    "\n",
    "\n",
    "circa_male = []\n",
    "circa_female = []\n",
    "circa_other = []\n",
    "\n",
    "\n",
    "coheed_male = []\n",
    "coheed_female = []\n",
    "coheed_other = []\n",
    "\n",
    "\n",
    "mcr_male = []\n",
    "mcr_female = []\n",
    "mcr_other = []\n",
    "\n",
    "total_male = []\n",
    "total_female = []\n",
    "total_other = []"
   ]
  },
  {
   "cell_type": "code",
   "execution_count": 15,
   "id": "991ffeeb",
   "metadata": {},
   "outputs": [],
   "source": [
    "def sort_gender(band_list_of_pronouns, male, female, other):\n",
    "    for gender in band_list_of_pronouns:\n",
    "        if gender in pronoun_dict['male']:\n",
    "            male.append(gender)\n",
    "        elif gender in pronoun_dict['female']:\n",
    "            female.append(gender)\n",
    "        else:\n",
    "            other.append(gender) "
   ]
  },
  {
   "cell_type": "code",
   "execution_count": 16,
   "id": "5d9ccfa2",
   "metadata": {},
   "outputs": [],
   "source": [
    "sort_gender(gender_pronoun_counter_thursday, thursday_male, thursday_female, thursday_other)\n",
    "sort_gender(gender_pronoun_counter_coheed, coheed_male, coheed_female, coheed_other)\n",
    "sort_gender(gender_pronoun_counter_circa, circa_male, circa_female, circa_other)\n",
    "sort_gender(gender_pronoun_counter_mcr, mcr_male, mcr_female, mcr_other)"
   ]
  },
  {
   "cell_type": "code",
   "execution_count": 17,
   "id": "2b03c124",
   "metadata": {},
   "outputs": [],
   "source": [
    "for gender in thursday_male:\n",
    "    total_male.append(gender)\n",
    "for gender in circa_male:\n",
    "    total_male.append(gender)\n",
    "for gender in coheed_male:\n",
    "    total_male.append(gender)\n",
    "for gender in mcr_male:\n",
    "    total_male.append(gender)\n",
    "    \n",
    "    \n",
    "for gender in thursday_female:\n",
    "    total_female.append(gender)\n",
    "for gender in circa_female:\n",
    "    total_female.append(gender)\n",
    "for gender in coheed_female:\n",
    "    total_female.append(gender)\n",
    "for gender in mcr_female:\n",
    "    total_female.append(gender)\n",
    "    \n",
    "\n",
    "for gender in thursday_other:\n",
    "    total_other.append(gender)\n",
    "for gender in circa_other:\n",
    "    total_other.append(gender)\n",
    "for gender in coheed_other:\n",
    "    total_other.append(gender)\n",
    "for gender in mcr_other:\n",
    "    total_other.append(gender)"
   ]
  },
  {
   "cell_type": "code",
   "execution_count": 18,
   "id": "e6732e54",
   "metadata": {},
   "outputs": [],
   "source": [
    "total_all = total_male + total_female + total_other"
   ]
  },
  {
   "cell_type": "code",
   "execution_count": 107,
   "id": "18e135e0",
   "metadata": {},
   "outputs": [],
   "source": [
    "#for gender in total_male:\n",
    "#    total_male.append(gender)\n",
    "\n",
    "#for gender in total_female:\n",
    "#    total_female.append(gender)\n",
    "    \n",
    "#for gender in total_other:\n",
    "#    total_other.append(gender)"
   ]
  },
  {
   "cell_type": "code",
   "execution_count": 21,
   "id": "26e2bdd2",
   "metadata": {},
   "outputs": [],
   "source": [
    "total = len(total_male) + len(total_female) + len(total_other) "
   ]
  },
  {
   "cell_type": "code",
   "execution_count": 22,
   "id": "02330d73",
   "metadata": {},
   "outputs": [],
   "source": [
    "data = {'Male': (len(total_male)/total)*100,\n",
    "       'Female' : (len(total_female)/total) * 100,\n",
    "       'Other' : (len(total_other)/total) *100}"
   ]
  },
  {
   "cell_type": "code",
   "execution_count": 24,
   "id": "b2c55ee0",
   "metadata": {},
   "outputs": [],
   "source": [
    "genders = list(data.keys())\n",
    "counts = list(data.values())"
   ]
  },
  {
   "cell_type": "code",
   "execution_count": 25,
   "id": "45cf8664",
   "metadata": {},
   "outputs": [
    {
     "data": {
      "image/png": "[encoded data removed]",
      "text/plain": [
       "<Figure size 720x360 with 1 Axes>"
      ]
     },
     "metadata": {
      "needs_background": "light"
     },
     "output_type": "display_data"
    }
   ],
   "source": [
    "fig = plt.figure(figsize = (10, 5))\n",
    "\n",
    "my_colors = list(islice(cycle(['blue', 'pink', 'purple']), None, len(genders)))\n",
    " \n",
    "plt.bar(genders, counts, color =my_colors,\n",
    "        width = 0.4)\n",
    " \n",
    "\n",
    "plt.ylabel(\"Percentage of total gender count\")\n",
    "plt.title(\"Distribution of genders among the fanbase\")\n",
    "plt.show()"
   ]
  },
  {
   "cell_type": "code",
   "execution_count": 31,
   "id": "04709b59",
   "metadata": {},
   "outputs": [],
   "source": [
    "fd_total_genders = FreqDist([w for w in total_all])"
   ]
  },
  {
   "cell_type": "code",
   "execution_count": 32,
   "id": "e1673f1c",
   "metadata": {},
   "outputs": [],
   "source": [
    "genders = fd_total_genders.keys()\n",
    "values = fd_total_genders.values()"
   ]
  },
  {
   "cell_type": "code",
   "execution_count": 33,
   "id": "bb7bf379",
   "metadata": {},
   "outputs": [],
   "source": [
    "male_fd = FreqDist([w for w in total_male])\n",
    "male_label = male_fd.keys()\n",
    "male_values = male_fd.values()\n",
    "\n",
    "female_fd = FreqDist([w for w in total_female])\n",
    "female_label = female_fd.keys()\n",
    "female_values = female_fd.values()\n",
    "\n",
    "other_fd = FreqDist([w for w in total_other])\n",
    "other_label = other_fd.keys()\n",
    "other_values = other_fd.values()"
   ]
  },
  {
   "cell_type": "code",
   "execution_count": 34,
   "id": "5a0e8246",
   "metadata": {},
   "outputs": [
    {
     "data": {
      "image/png": "[encoded data removed]",
      "text/plain": [
       "<Figure size 1080x360 with 1 Axes>"
      ]
     },
     "metadata": {
      "needs_background": "light"
     },
     "output_type": "display_data"
    }
   ],
   "source": [
    "fig = plt.figure(figsize = (15, 5))\n",
    " \n",
    "# creating the bar plot\n",
    "plt.bar(genders, values, color ='teal',\n",
    "        width = 0.4)\n",
    " \n",
    "\n",
    "plt.ylabel(\"Count of term usage\")\n",
    "plt.title('Distribution of gender indentifying terms among all genders')\n",
    "plt.xticks(rotation = 45)\n",
    "plt.show()"
   ]
  },
  {
   "cell_type": "code",
   "execution_count": 61,
   "id": "719674dc",
   "metadata": {},
   "outputs": [
    {
     "data": {
      "image/png": "[encoded data removed]",
      "text/plain": [
       "<Figure size 1080x360 with 1 Axes>"
      ]
     },
     "metadata": {
      "needs_background": "light"
     },
     "output_type": "display_data"
    }
   ],
   "source": [
    "fig = plt.figure(figsize = (15, 5))\n",
    " \n",
    "# creating the bar plot\n",
    "plt.bar(male_label, male_values, color ='blue',\n",
    "        width = 0.4)\n",
    " \n",
    "\n",
    "plt.ylabel(\"Count of term usage\")\n",
    "plt.title('Distribution of gender indentifying terms (male)')\n",
    "plt.xticks(rotation = 45)\n",
    "plt.show()"
   ]
  },
  {
   "cell_type": "code",
   "execution_count": 60,
   "id": "eb75b500",
   "metadata": {},
   "outputs": [
    {
     "data": {
      "image/png": "[encoded data removed]",
      "text/plain": [
       "<Figure size 1080x360 with 1 Axes>"
      ]
     },
     "metadata": {
      "needs_background": "light"
     },
     "output_type": "display_data"
    }
   ],
   "source": [
    "fig = plt.figure(figsize = (15, 5))\n",
    " \n",
    "# creating the bar plot\n",
    "plt.bar(female_label, female_values, color ='pink',\n",
    "        width = 0.4)\n",
    " \n",
    "\n",
    "plt.ylabel(\"Count of term usage\")\n",
    "plt.title('Distribution of gender indentifying terms (female)')\n",
    "plt.xticks(rotation = 45)\n",
    "plt.show()"
   ]
  },
  {
   "cell_type": "code",
   "execution_count": 59,
   "id": "293ef9ff",
   "metadata": {},
   "outputs": [
    {
     "data": {
      "image/png": "[encoded data removed]",
      "text/plain": [
       "<Figure size 1080x360 with 1 Axes>"
      ]
     },
     "metadata": {
      "needs_background": "light"
     },
     "output_type": "display_data"
    }
   ],
   "source": [
    "fig = plt.figure(figsize = (15, 5))\n",
    " \n",
    "# creating the bar plot\n",
    "plt.bar(other_label, other_values, color ='purple',\n",
    "        width = 0.4)\n",
    " \n",
    "\n",
    "plt.ylabel(\"Count of term usage\")\n",
    "plt.title('Distribution of gender indentifying terms (non-binary)')\n",
    "plt.xticks(rotation = 45)\n",
    "plt.show()"
   ]
  }
 ],
 "metadata": {
  "kernelspec": {
   "display_name": "Python 3 (ipykernel)",
   "language": "python",
   "name": "python3"
  },
  "language_info": {
   "codemirror_mode": {
    "name": "ipython",
    "version": 3
   },
   "file_extension": ".py",
   "mimetype": "text/x-python",
   "name": "python",
   "nbconvert_exporter": "python",
   "pygments_lexer": "ipython3",
   "version": "3.10.2"
  }
 },
 "nbformat": 4,
 "nbformat_minor": 5
}
