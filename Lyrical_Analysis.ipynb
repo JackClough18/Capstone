{
 "cells": [
  {
   "cell_type": "code",
   "execution_count": 2,
   "id": "cf063c7e",
   "metadata": {},
   "outputs": [],
   "source": [
    "import pandas as pd\n",
    "from nltk.corpus import stopwords\n",
    "sw = stopwords.words('English')\n",
    "from collections import Counter\n",
    "from nltk.probability import FreqDist\n",
    "import numpy as np\n",
    "from string import punctuation\n",
    "punctuation = set(punctuation)"
   ]
  },
  {
   "cell_type": "code",
   "execution_count": 8,
   "id": "ca468aee",
   "metadata": {},
   "outputs": [],
   "source": [
    "df = pd.read_csv('songs_df.csv')\n",
    "#df = df.drop(columns= ['Unnamed: 0'])"
   ]
  },
  {
   "cell_type": "code",
   "execution_count": 21,
   "id": "8e5668a4",
   "metadata": {},
   "outputs": [],
   "source": [
    "df['Lyrics'].fillna('NA', inplace=True)"
   ]
  },
  {
   "cell_type": "code",
   "execution_count": 23,
   "id": "c3f9b11d",
   "metadata": {},
   "outputs": [],
   "source": [
    "df['Top_Genre'] = new_genre_list"
   ]
  },
  {
   "cell_type": "code",
   "execution_count": 15,
   "id": "51330128",
   "metadata": {},
   "outputs": [],
   "source": [
    "lyrics = df[\"Lyrics\"]"
   ]
  },
  {
   "cell_type": "code",
   "execution_count": 130,
   "id": "55630da6",
   "metadata": {},
   "outputs": [],
   "source": [
    "results = {'tokens': [],\n",
    "            'unique_tokens': [],\n",
    "            'avg_token_length': [],\n",
    "            'lexical_diversity': [],\n",
    "            'top_10': []}\n",
    "\n",
    "def get_patterns(text, results_dict)  :\n",
    "\n",
    "    total_tokens = 1\n",
    "    unique_tokens = 0\n",
    "    avg_token_len = 0.0\n",
    "    lex_diversity = 0.0\n",
    "    top_10 = Counter()\n",
    "    \n",
    "    txt_clean = [word.lower() for word in text.split()]\n",
    "    txt_clean = [word for word in txt_clean if word.isalpha() and word not in sw]\n",
    "    \n",
    "    total_tokens = len(txt_clean)\n",
    "    \n",
    "    unique_tokens = len(set(txt_clean))\n",
    "    \n",
    "    txt_token_length = [len(word) for word in txt_clean]\n",
    "    avg_token_len = round(np.mean(txt_token_length), 2)\n",
    "    \n",
    "    lex_diversity = round(len(set(txt_clean))/len(txt_clean), 2)\n",
    "    \n",
    "\n",
    "    txt_fd = FreqDist(txt_clean)\n",
    "    top_10 = txt_fd.most_common(10)\n",
    "\n",
    "    results_dict['tokens'].append(total_tokens)\n",
    "    results_dict['unique_tokens'].append(unique_tokens)\n",
    "    results_dict['avg_token_length'].append(avg_token_len)\n",
    "    results_dict['lexical_diversity'].append(lex_diversity)\n",
    "    results_dict['top_10'].append(top_10)"
   ]
  },
  {
   "cell_type": "code",
   "execution_count": 131,
   "id": "b76cc5f0",
   "metadata": {},
   "outputs": [],
   "source": [
    "for song in lyrics:\n",
    "    get_patterns(song, results)"
   ]
  },
  {
   "cell_type": "code",
   "execution_count": 132,
   "id": "a5ae617c",
   "metadata": {},
   "outputs": [],
   "source": [
    "df['Total Words'] = results['tokens']\n",
    "df['Total Unique Words'] = results['unique_tokens']\n",
    "df['Avg. Word Length'] = results['avg_token_length']\n",
    "df['lexical Diversity'] = results['lexical_diversity']\n",
    "df['Top 10 Words'] = results['top_10']"
   ]
  },
  {
   "cell_type": "markdown",
   "id": "e40a6ae5",
   "metadata": {},
   "source": [
    "# Data Cleaning"
   ]
  },
  {
   "cell_type": "code",
   "execution_count": 32,
   "id": "a66a2e22",
   "metadata": {},
   "outputs": [],
   "source": [
    "df = pd.read_csv('songs_analysis.csv')"
   ]
  },
  {
   "cell_type": "code",
   "execution_count": 33,
   "id": "ff7d7b1c",
   "metadata": {},
   "outputs": [],
   "source": [
    "df = df.drop(columns= ['Unnamed: 0', 'speechiness', 'liveness', 'time_signature'])"
   ]
  },
  {
   "cell_type": "code",
   "execution_count": 34,
   "id": "6648763b",
   "metadata": {},
   "outputs": [],
   "source": [
    "df = df[df['Total Words'] < 350] \n",
    "df = df[df['Total Words'] > 30]\n",
    "\n",
    "df['key'] = df['key'].astype('category')\n",
    "df['mode'] = df['mode'].astype('category')\n",
    "\n",
    "df['acousticness'] = df['acousticness'].apply(lambda x: 'non-acoustic' if x <= 0.5 else 'acoustic')\n",
    "df['instrumentalness'] = df['instrumentalness'].apply(lambda x: 'instrumental' if x > 0.5 else 'lyrics' )\n",
    "df['Lexical Diversity'] = df['lexical Diversity'].apply(lambda x: x*100)\n",
    "df['energy'] = df['energy'].apply(lambda x: x*100)\n",
    "\n",
    "df['danceability'] = df['danceability'].apply(lambda x: x*100)\n",
    "\n",
    "df['valence'] = df['valence'].apply(lambda x: x*100)\n",
    "\n",
    "df['duration_minutes'] = df['duration_ms'].apply(lambda x: x/(1000*60)%60)\n",
    "df['duration_minutes'] = round(df['duration_minutes'], 2)"
   ]
  },
  {
   "cell_type": "code",
   "execution_count": 35,
   "id": "18d89ab4",
   "metadata": {},
   "outputs": [],
   "source": [
    "df = df.drop(columns= ['duration_ms'])\n",
    "df = df.drop(columns = ['lexical Diversity'])"
   ]
  },
  {
   "cell_type": "code",
   "execution_count": 39,
   "id": "1e566d21",
   "metadata": {},
   "outputs": [
    {
     "data": {
      "text/plain": [
       "array([[<AxesSubplot:title={'center':'danceability'}>,\n",
       "        <AxesSubplot:title={'center':'energy'}>,\n",
       "        <AxesSubplot:title={'center':'loudness'}>],\n",
       "       [<AxesSubplot:title={'center':'valence'}>,\n",
       "        <AxesSubplot:title={'center':'tempo'}>,\n",
       "        <AxesSubplot:title={'center':'popularity'}>],\n",
       "       [<AxesSubplot:title={'center':'Total Words'}>,\n",
       "        <AxesSubplot:title={'center':'Total Unique Words'}>,\n",
       "        <AxesSubplot:title={'center':'Avg. Word Length'}>],\n",
       "       [<AxesSubplot:title={'center':'Lexical Diversity'}>,\n",
       "        <AxesSubplot:title={'center':'duration_minutes'}>,\n",
       "        <AxesSubplot:>]], dtype=object)"
      ]
     },
     "execution_count": 39,
     "metadata": {},
     "output_type": "execute_result"
    },
    {
     "data": {
      "image/png": "[encoded data removed]",
      "text/plain": [
       "<Figure size 1080x720 with 12 Axes>"
      ]
     },
     "metadata": {
      "needs_background": "light"
     },
     "output_type": "display_data"
    }
   ],
   "source": [
    "df.hist(bins=30, figsize=(15, 10))"
   ]
  },
  {
   "cell_type": "code",
   "execution_count": 40,
   "id": "33900731",
   "metadata": {},
   "outputs": [
    {
     "data": {
      "text/html": [
       "<div>\n",
       "<style scoped>\n",
       "    .dataframe tbody tr th:only-of-type {\n",
       "        vertical-align: middle;\n",
       "    }\n",
       "\n",
       "    .dataframe tbody tr th {\n",
       "        vertical-align: top;\n",
       "    }\n",
       "\n",
       "    .dataframe thead th {\n",
       "        text-align: right;\n",
       "    }\n",
       "</style>\n",
       "<table border=\"1\" class=\"dataframe\">\n",
       "  <thead>\n",
       "    <tr style=\"text-align: right;\">\n",
       "      <th></th>\n",
       "      <th>danceability</th>\n",
       "      <th>energy</th>\n",
       "      <th>loudness</th>\n",
       "      <th>valence</th>\n",
       "      <th>tempo</th>\n",
       "      <th>popularity</th>\n",
       "      <th>Total Words</th>\n",
       "      <th>Total Unique Words</th>\n",
       "      <th>Avg. Word Length</th>\n",
       "      <th>Lexical Diversity</th>\n",
       "      <th>duration_minutes</th>\n",
       "    </tr>\n",
       "  </thead>\n",
       "  <tbody>\n",
       "    <tr>\n",
       "      <th>count</th>\n",
       "      <td>4742.000000</td>\n",
       "      <td>4742.000000</td>\n",
       "      <td>4742.000000</td>\n",
       "      <td>4742.000000</td>\n",
       "      <td>4742.000000</td>\n",
       "      <td>4742.000000</td>\n",
       "      <td>4742.000000</td>\n",
       "      <td>4742.000000</td>\n",
       "      <td>4742.000000</td>\n",
       "      <td>4742.000000</td>\n",
       "      <td>4742.000000</td>\n",
       "    </tr>\n",
       "    <tr>\n",
       "      <th>mean</th>\n",
       "      <td>48.814831</td>\n",
       "      <td>73.387135</td>\n",
       "      <td>-6.348370</td>\n",
       "      <td>43.033629</td>\n",
       "      <td>128.419300</td>\n",
       "      <td>44.633488</td>\n",
       "      <td>126.324336</td>\n",
       "      <td>65.091944</td>\n",
       "      <td>5.139083</td>\n",
       "      <td>54.307887</td>\n",
       "      <td>3.651944</td>\n",
       "    </tr>\n",
       "    <tr>\n",
       "      <th>std</th>\n",
       "      <td>15.148766</td>\n",
       "      <td>23.587919</td>\n",
       "      <td>3.327415</td>\n",
       "      <td>21.648272</td>\n",
       "      <td>31.405081</td>\n",
       "      <td>14.608864</td>\n",
       "      <td>56.280790</td>\n",
       "      <td>30.931908</td>\n",
       "      <td>0.488869</td>\n",
       "      <td>16.206642</td>\n",
       "      <td>1.027331</td>\n",
       "    </tr>\n",
       "    <tr>\n",
       "      <th>min</th>\n",
       "      <td>6.210000</td>\n",
       "      <td>0.002030</td>\n",
       "      <td>-25.345000</td>\n",
       "      <td>3.180000</td>\n",
       "      <td>50.846000</td>\n",
       "      <td>3.000000</td>\n",
       "      <td>31.000000</td>\n",
       "      <td>6.000000</td>\n",
       "      <td>2.930000</td>\n",
       "      <td>5.000000</td>\n",
       "      <td>0.580000</td>\n",
       "    </tr>\n",
       "    <tr>\n",
       "      <th>25%</th>\n",
       "      <td>38.500000</td>\n",
       "      <td>58.900000</td>\n",
       "      <td>-7.536500</td>\n",
       "      <td>25.925000</td>\n",
       "      <td>102.747000</td>\n",
       "      <td>35.000000</td>\n",
       "      <td>86.000000</td>\n",
       "      <td>46.000000</td>\n",
       "      <td>4.830000</td>\n",
       "      <td>43.000000</td>\n",
       "      <td>3.062500</td>\n",
       "    </tr>\n",
       "    <tr>\n",
       "      <th>50%</th>\n",
       "      <td>48.600000</td>\n",
       "      <td>82.000000</td>\n",
       "      <td>-5.451000</td>\n",
       "      <td>40.900000</td>\n",
       "      <td>127.281000</td>\n",
       "      <td>45.000000</td>\n",
       "      <td>118.000000</td>\n",
       "      <td>60.000000</td>\n",
       "      <td>5.110000</td>\n",
       "      <td>53.000000</td>\n",
       "      <td>3.520000</td>\n",
       "    </tr>\n",
       "    <tr>\n",
       "      <th>75%</th>\n",
       "      <td>58.700000</td>\n",
       "      <td>92.600000</td>\n",
       "      <td>-4.147250</td>\n",
       "      <td>58.400000</td>\n",
       "      <td>152.057750</td>\n",
       "      <td>54.000000</td>\n",
       "      <td>155.000000</td>\n",
       "      <td>77.000000</td>\n",
       "      <td>5.400000</td>\n",
       "      <td>65.000000</td>\n",
       "      <td>4.070000</td>\n",
       "    </tr>\n",
       "    <tr>\n",
       "      <th>max</th>\n",
       "      <td>95.300000</td>\n",
       "      <td>99.800000</td>\n",
       "      <td>-0.113000</td>\n",
       "      <td>97.200000</td>\n",
       "      <td>217.941000</td>\n",
       "      <td>86.000000</td>\n",
       "      <td>349.000000</td>\n",
       "      <td>325.000000</td>\n",
       "      <td>10.880000</td>\n",
       "      <td>100.000000</td>\n",
       "      <td>15.770000</td>\n",
       "    </tr>\n",
       "  </tbody>\n",
       "</table>\n",
       "</div>"
      ],
      "text/plain": [
       "       danceability       energy     loudness      valence        tempo  \\\n",
       "count   4742.000000  4742.000000  4742.000000  4742.000000  4742.000000   \n",
       "mean      48.814831    73.387135    -6.348370    43.033629   128.419300   \n",
       "std       15.148766    23.587919     3.327415    21.648272    31.405081   \n",
       "min        6.210000     0.002030   -25.345000     3.180000    50.846000   \n",
       "25%       38.500000    58.900000    -7.536500    25.925000   102.747000   \n",
       "50%       48.600000    82.000000    -5.451000    40.900000   127.281000   \n",
       "75%       58.700000    92.600000    -4.147250    58.400000   152.057750   \n",
       "max       95.300000    99.800000    -0.113000    97.200000   217.941000   \n",
       "\n",
       "        popularity  Total Words  Total Unique Words  Avg. Word Length  \\\n",
       "count  4742.000000  4742.000000         4742.000000       4742.000000   \n",
       "mean     44.633488   126.324336           65.091944          5.139083   \n",
       "std      14.608864    56.280790           30.931908          0.488869   \n",
       "min       3.000000    31.000000            6.000000          2.930000   \n",
       "25%      35.000000    86.000000           46.000000          4.830000   \n",
       "50%      45.000000   118.000000           60.000000          5.110000   \n",
       "75%      54.000000   155.000000           77.000000          5.400000   \n",
       "max      86.000000   349.000000          325.000000         10.880000   \n",
       "\n",
       "       Lexical Diversity  duration_minutes  \n",
       "count        4742.000000       4742.000000  \n",
       "mean           54.307887          3.651944  \n",
       "std            16.206642          1.027331  \n",
       "min             5.000000          0.580000  \n",
       "25%            43.000000          3.062500  \n",
       "50%            53.000000          3.520000  \n",
       "75%            65.000000          4.070000  \n",
       "max           100.000000         15.770000  "
      ]
     },
     "execution_count": 40,
     "metadata": {},
     "output_type": "execute_result"
    }
   ],
   "source": [
    "df.describe()"
   ]
  },
  {
   "cell_type": "code",
   "execution_count": 38,
   "id": "1eef4729",
   "metadata": {},
   "outputs": [],
   "source": [
    "#This will be used in R\n",
    "\n",
    "df.to_csv('songs_transformed.csv')"
   ]
  },
  {
   "cell_type": "markdown",
   "id": "9e8ea905",
   "metadata": {},
   "source": [
    "# Data Visualizations/EDA"
   ]
  },
  {
   "cell_type": "code",
   "execution_count": 79,
   "id": "2beba927",
   "metadata": {},
   "outputs": [
    {
     "data": {
      "text/plain": [
       "Text(0.5, 1.0, 'Audio feature trends among general likely songs')"
      ]
     },
     "execution_count": 79,
     "metadata": {},
     "output_type": "execute_result"
    },
    {
     "data": {
      "image/png": "[encoded data removed]",
      "text/plain": [
       "<Figure size 432x288 with 1 Axes>"
      ]
     },
     "metadata": {
      "needs_background": "light"
     },
     "output_type": "display_data"
    }
   ],
   "source": [
    "df_box = df[[\"danceability\", \"energy\", \"valence\", \"Lexical Diversity\"]]\n",
    "df_box = df_box.plot.box()\n",
    "\n",
    "df_box.set_title('Audio feature trends among general likely songs')"
   ]
  },
  {
   "cell_type": "code",
   "execution_count": 17,
   "id": "3c806206",
   "metadata": {
    "scrolled": true
   },
   "outputs": [
    {
     "data": {
      "image/png": "[encoded data removed]",
      "text/plain": [
       "<Figure size 432x288 with 1 Axes>"
      ]
     },
     "metadata": {
      "needs_background": "light"
     },
     "output_type": "display_data"
    }
   ],
   "source": [
    "df_box = df[[\"Total Words\"]]\n",
    "df_box = df_box.plot.box()\n",
    "df_box.set_title('Dstribution of the total amount of words in a song')"
   ]
  },
  {
   "cell_type": "code",
   "execution_count": 192,
   "id": "4323c780",
   "metadata": {},
   "outputs": [
    {
     "data": {
      "text/html": [
       "<div>\n",
       "<style scoped>\n",
       "    .dataframe tbody tr th:only-of-type {\n",
       "        vertical-align: middle;\n",
       "    }\n",
       "\n",
       "    .dataframe tbody tr th {\n",
       "        vertical-align: top;\n",
       "    }\n",
       "\n",
       "    .dataframe thead th {\n",
       "        text-align: right;\n",
       "    }\n",
       "</style>\n",
       "<table border=\"1\" class=\"dataframe\">\n",
       "  <thead>\n",
       "    <tr style=\"text-align: right;\">\n",
       "      <th></th>\n",
       "      <th>Mean</th>\n",
       "    </tr>\n",
       "  </thead>\n",
       "  <tbody>\n",
       "    <tr>\n",
       "      <th>danceability</th>\n",
       "      <td>48.814831</td>\n",
       "    </tr>\n",
       "    <tr>\n",
       "      <th>energy</th>\n",
       "      <td>73.387135</td>\n",
       "    </tr>\n",
       "    <tr>\n",
       "      <th>loudness</th>\n",
       "      <td>-6.348370</td>\n",
       "    </tr>\n",
       "    <tr>\n",
       "      <th>valence</th>\n",
       "      <td>43.033629</td>\n",
       "    </tr>\n",
       "    <tr>\n",
       "      <th>tempo</th>\n",
       "      <td>128.419300</td>\n",
       "    </tr>\n",
       "    <tr>\n",
       "      <th>popularity</th>\n",
       "      <td>44.633488</td>\n",
       "    </tr>\n",
       "    <tr>\n",
       "      <th>Total Words</th>\n",
       "      <td>126.324336</td>\n",
       "    </tr>\n",
       "    <tr>\n",
       "      <th>Lexical Diversity</th>\n",
       "      <td>54.307887</td>\n",
       "    </tr>\n",
       "    <tr>\n",
       "      <th>duration_minutes</th>\n",
       "      <td>3.651944</td>\n",
       "    </tr>\n",
       "  </tbody>\n",
       "</table>\n",
       "</div>"
      ],
      "text/plain": [
       "                         Mean\n",
       "danceability        48.814831\n",
       "energy              73.387135\n",
       "loudness            -6.348370\n",
       "valence             43.033629\n",
       "tempo              128.419300\n",
       "popularity          44.633488\n",
       "Total Words        126.324336\n",
       "Lexical Diversity   54.307887\n",
       "duration_minutes     3.651944"
      ]
     },
     "execution_count": 192,
     "metadata": {},
     "output_type": "execute_result"
    }
   ],
   "source": [
    "df_significant = df[['danceability', 'energy', 'loudness', 'valence', 'tempo', 'popularity', 'Total Words',\n",
    "                         'Lexical Diversity', 'duration_minutes']]\n",
    "mean_table = df_significant.mean()\n",
    "mean_df = pd.DataFrame(mean_table, columns = ['Mean'])\n",
    "mean_df"
   ]
  },
  {
   "cell_type": "markdown",
   "id": "0c3bad3d",
   "metadata": {},
   "source": [
    "## Subset top 10 percent"
   ]
  },
  {
   "cell_type": "code",
   "execution_count": 180,
   "id": "0b207e62",
   "metadata": {},
   "outputs": [],
   "source": [
    "df_sorted = df.sort_values('popularity', ascending = False)\n",
    "percentage=round(len(df_sorted)/100*10)\n",
    "top_10_df = df_sorted.head(percentage)  \n",
    "the_rest = df_sorted.iloc[percentage:len(df_sorted),:]"
   ]
  },
  {
   "cell_type": "code",
   "execution_count": 181,
   "id": "137c4e72",
   "metadata": {},
   "outputs": [
    {
     "data": {
      "text/plain": [
       "Text(0.5, 1.0, 'Audio feature trends among top 10%')"
      ]
     },
     "execution_count": 181,
     "metadata": {},
     "output_type": "execute_result"
    },
    {
     "data": {
      "image/png": "[encoded data removed]",
      "text/plain": [
       "<Figure size 432x288 with 1 Axes>"
      ]
     },
     "metadata": {
      "needs_background": "light"
     },
     "output_type": "display_data"
    }
   ],
   "source": [
    "top_10_box = top_10_df[[\"danceability\", \"energy\", \"valence\", \"Lexical Diversity\"]]\n",
    "top_10_box = top_10_box.plot.box()\n",
    "\n",
    "top_10_box.set_title('Audio feature trends among top 10%')"
   ]
  },
  {
   "cell_type": "code",
   "execution_count": 189,
   "id": "f60e1285",
   "metadata": {},
   "outputs": [],
   "source": [
    "top_10_table = top_10_df[['danceability', 'energy', 'loudness', 'valence', 'tempo', 'popularity', 'Total Words',\n",
    "                         'Lexical Diversity', 'duration_minutes']]"
   ]
  },
  {
   "cell_type": "code",
   "execution_count": 190,
   "id": "831ca025",
   "metadata": {
    "scrolled": true
   },
   "outputs": [
    {
     "data": {
      "text/html": [
       "<div>\n",
       "<style scoped>\n",
       "    .dataframe tbody tr th:only-of-type {\n",
       "        vertical-align: middle;\n",
       "    }\n",
       "\n",
       "    .dataframe tbody tr th {\n",
       "        vertical-align: top;\n",
       "    }\n",
       "\n",
       "    .dataframe thead th {\n",
       "        text-align: right;\n",
       "    }\n",
       "</style>\n",
       "<table border=\"1\" class=\"dataframe\">\n",
       "  <thead>\n",
       "    <tr style=\"text-align: right;\">\n",
       "      <th></th>\n",
       "      <th>danceability</th>\n",
       "      <th>energy</th>\n",
       "      <th>loudness</th>\n",
       "      <th>valence</th>\n",
       "      <th>tempo</th>\n",
       "      <th>popularity</th>\n",
       "      <th>Total Words</th>\n",
       "      <th>Lexical Diversity</th>\n",
       "      <th>duration_minutes</th>\n",
       "    </tr>\n",
       "  </thead>\n",
       "  <tbody>\n",
       "    <tr>\n",
       "      <th>count</th>\n",
       "      <td>474.000000</td>\n",
       "      <td>474.000000</td>\n",
       "      <td>474.000000</td>\n",
       "      <td>474.000000</td>\n",
       "      <td>474.000000</td>\n",
       "      <td>474.000000</td>\n",
       "      <td>474.000000</td>\n",
       "      <td>474.000000</td>\n",
       "      <td>474.000000</td>\n",
       "    </tr>\n",
       "    <tr>\n",
       "      <th>mean</th>\n",
       "      <td>56.850211</td>\n",
       "      <td>67.507468</td>\n",
       "      <td>-6.594008</td>\n",
       "      <td>49.517785</td>\n",
       "      <td>126.839445</td>\n",
       "      <td>70.761603</td>\n",
       "      <td>151.449367</td>\n",
       "      <td>48.776371</td>\n",
       "      <td>3.478713</td>\n",
       "    </tr>\n",
       "    <tr>\n",
       "      <th>std</th>\n",
       "      <td>15.028830</td>\n",
       "      <td>22.767999</td>\n",
       "      <td>3.541298</td>\n",
       "      <td>21.678590</td>\n",
       "      <td>30.360527</td>\n",
       "      <td>5.295109</td>\n",
       "      <td>67.266962</td>\n",
       "      <td>15.604811</td>\n",
       "      <td>0.769535</td>\n",
       "    </tr>\n",
       "    <tr>\n",
       "      <th>min</th>\n",
       "      <td>17.300000</td>\n",
       "      <td>2.830000</td>\n",
       "      <td>-25.021000</td>\n",
       "      <td>6.350000</td>\n",
       "      <td>61.932000</td>\n",
       "      <td>64.000000</td>\n",
       "      <td>31.000000</td>\n",
       "      <td>5.000000</td>\n",
       "      <td>0.660000</td>\n",
       "    </tr>\n",
       "    <tr>\n",
       "      <th>25%</th>\n",
       "      <td>47.125000</td>\n",
       "      <td>51.125000</td>\n",
       "      <td>-8.001250</td>\n",
       "      <td>32.400000</td>\n",
       "      <td>103.953750</td>\n",
       "      <td>66.000000</td>\n",
       "      <td>101.000000</td>\n",
       "      <td>37.000000</td>\n",
       "      <td>3.050000</td>\n",
       "    </tr>\n",
       "    <tr>\n",
       "      <th>50%</th>\n",
       "      <td>56.800000</td>\n",
       "      <td>72.000000</td>\n",
       "      <td>-5.459000</td>\n",
       "      <td>48.600000</td>\n",
       "      <td>123.957000</td>\n",
       "      <td>69.000000</td>\n",
       "      <td>144.000000</td>\n",
       "      <td>46.500000</td>\n",
       "      <td>3.440000</td>\n",
       "    </tr>\n",
       "    <tr>\n",
       "      <th>75%</th>\n",
       "      <td>67.150000</td>\n",
       "      <td>86.750000</td>\n",
       "      <td>-4.160750</td>\n",
       "      <td>66.225000</td>\n",
       "      <td>145.489000</td>\n",
       "      <td>74.750000</td>\n",
       "      <td>192.750000</td>\n",
       "      <td>58.000000</td>\n",
       "      <td>3.830000</td>\n",
       "    </tr>\n",
       "    <tr>\n",
       "      <th>max</th>\n",
       "      <td>95.300000</td>\n",
       "      <td>98.700000</td>\n",
       "      <td>-1.794000</td>\n",
       "      <td>95.400000</td>\n",
       "      <td>210.857000</td>\n",
       "      <td>86.000000</td>\n",
       "      <td>345.000000</td>\n",
       "      <td>94.000000</td>\n",
       "      <td>7.040000</td>\n",
       "    </tr>\n",
       "  </tbody>\n",
       "</table>\n",
       "</div>"
      ],
      "text/plain": [
       "       danceability      energy    loudness     valence       tempo  \\\n",
       "count    474.000000  474.000000  474.000000  474.000000  474.000000   \n",
       "mean      56.850211   67.507468   -6.594008   49.517785  126.839445   \n",
       "std       15.028830   22.767999    3.541298   21.678590   30.360527   \n",
       "min       17.300000    2.830000  -25.021000    6.350000   61.932000   \n",
       "25%       47.125000   51.125000   -8.001250   32.400000  103.953750   \n",
       "50%       56.800000   72.000000   -5.459000   48.600000  123.957000   \n",
       "75%       67.150000   86.750000   -4.160750   66.225000  145.489000   \n",
       "max       95.300000   98.700000   -1.794000   95.400000  210.857000   \n",
       "\n",
       "       popularity  Total Words  Lexical Diversity  duration_minutes  \n",
       "count  474.000000   474.000000         474.000000        474.000000  \n",
       "mean    70.761603   151.449367          48.776371          3.478713  \n",
       "std      5.295109    67.266962          15.604811          0.769535  \n",
       "min     64.000000    31.000000           5.000000          0.660000  \n",
       "25%     66.000000   101.000000          37.000000          3.050000  \n",
       "50%     69.000000   144.000000          46.500000          3.440000  \n",
       "75%     74.750000   192.750000          58.000000          3.830000  \n",
       "max     86.000000   345.000000          94.000000          7.040000  "
      ]
     },
     "execution_count": 190,
     "metadata": {},
     "output_type": "execute_result"
    }
   ],
   "source": [
    "top_10_table.describe()"
   ]
  },
  {
   "cell_type": "code",
   "execution_count": 186,
   "id": "ebcb06a1",
   "metadata": {},
   "outputs": [
    {
     "data": {
      "image/png": "[encoded data removed]",
      "text/plain": [
       "<Figure size 432x288 with 1 Axes>"
      ]
     },
     "metadata": {
      "needs_background": "light"
     },
     "output_type": "display_data"
    }
   ],
   "source": [
    "top_10_words_box = top_10_df[[\"Total Words\"]]\n",
    "top_10_words_box = top_10_words_box.plot.box()"
   ]
  },
  {
   "cell_type": "code",
   "execution_count": 191,
   "id": "49bbdc6c",
   "metadata": {},
   "outputs": [
    {
     "data": {
      "text/html": [
       "<div>\n",
       "<style scoped>\n",
       "    .dataframe tbody tr th:only-of-type {\n",
       "        vertical-align: middle;\n",
       "    }\n",
       "\n",
       "    .dataframe tbody tr th {\n",
       "        vertical-align: top;\n",
       "    }\n",
       "\n",
       "    .dataframe thead th {\n",
       "        text-align: right;\n",
       "    }\n",
       "</style>\n",
       "<table border=\"1\" class=\"dataframe\">\n",
       "  <thead>\n",
       "    <tr style=\"text-align: right;\">\n",
       "      <th></th>\n",
       "      <th>Mean</th>\n",
       "    </tr>\n",
       "  </thead>\n",
       "  <tbody>\n",
       "    <tr>\n",
       "      <th>danceability</th>\n",
       "      <td>56.850211</td>\n",
       "    </tr>\n",
       "    <tr>\n",
       "      <th>energy</th>\n",
       "      <td>67.507468</td>\n",
       "    </tr>\n",
       "    <tr>\n",
       "      <th>loudness</th>\n",
       "      <td>-6.594008</td>\n",
       "    </tr>\n",
       "    <tr>\n",
       "      <th>valence</th>\n",
       "      <td>49.517785</td>\n",
       "    </tr>\n",
       "    <tr>\n",
       "      <th>tempo</th>\n",
       "      <td>126.839445</td>\n",
       "    </tr>\n",
       "    <tr>\n",
       "      <th>popularity</th>\n",
       "      <td>70.761603</td>\n",
       "    </tr>\n",
       "    <tr>\n",
       "      <th>Total Words</th>\n",
       "      <td>151.449367</td>\n",
       "    </tr>\n",
       "    <tr>\n",
       "      <th>Lexical Diversity</th>\n",
       "      <td>48.776371</td>\n",
       "    </tr>\n",
       "    <tr>\n",
       "      <th>duration_minutes</th>\n",
       "      <td>3.478713</td>\n",
       "    </tr>\n",
       "  </tbody>\n",
       "</table>\n",
       "</div>"
      ],
      "text/plain": [
       "                         Mean\n",
       "danceability        56.850211\n",
       "energy              67.507468\n",
       "loudness            -6.594008\n",
       "valence             49.517785\n",
       "tempo              126.839445\n",
       "popularity          70.761603\n",
       "Total Words        151.449367\n",
       "Lexical Diversity   48.776371\n",
       "duration_minutes     3.478713"
      ]
     },
     "execution_count": 191,
     "metadata": {},
     "output_type": "execute_result"
    }
   ],
   "source": [
    "mean_table = top_10_table.mean()\n",
    "mean_df = pd.DataFrame(mean_table, columns = ['Mean'])\n",
    "mean_df"
   ]
  },
  {
   "cell_type": "markdown",
   "id": "55103c34",
   "metadata": {},
   "source": [
    "## Subset on Genre"
   ]
  },
  {
   "cell_type": "code",
   "execution_count": 72,
   "id": "a72ae84d",
   "metadata": {},
   "outputs": [],
   "source": [
    "genre_subset = df[df[\"Top_Genre\"].isin(['emo', 'brooklyn indie', 'alternative metal',\n",
    "                                        'modern rock', 'pop punk'])]\n",
    "#not_genre_subset = df[df[\"Top_Genre\"].isin(['emo', 'brooklyn indie', 'alternative metal',\n",
    "#                                        'modern rock', 'pop punk']) == False]"
   ]
  },
  {
   "cell_type": "code",
   "execution_count": 75,
   "id": "9ca15570",
   "metadata": {},
   "outputs": [],
   "source": [
    "genre_subset = genre_subset.sort_values('popularity', ascending = False)"
   ]
  },
  {
   "cell_type": "code",
   "execution_count": null,
   "id": "142f8b3b",
   "metadata": {},
   "outputs": [],
   "source": [
    "#genre_subset.to_csv('genre_subset.csv')"
   ]
  },
  {
   "cell_type": "code",
   "execution_count": 77,
   "id": "fedfcea3",
   "metadata": {},
   "outputs": [
    {
     "data": {
      "text/plain": [
       "Text(0.5, 1.0, 'Audio feature trends among relevant genres')"
      ]
     },
     "execution_count": 77,
     "metadata": {},
     "output_type": "execute_result"
    },
    {
     "data": {
      "image/png": "[encoded data removed]",
      "text/plain": [
       "<Figure size 432x288 with 1 Axes>"
      ]
     },
     "metadata": {
      "needs_background": "light"
     },
     "output_type": "display_data"
    }
   ],
   "source": [
    "genre_box = genre_subset[[\"danceability\", \"energy\", \"valence\", \"Lexical Diversity\"]]\n",
    "genre_box = genre_box.plot.box()\n",
    "\n",
    "genre_box.set_title('Audio feature trends among relevant genres')"
   ]
  },
  {
   "cell_type": "code",
   "execution_count": 187,
   "id": "f1eca921",
   "metadata": {},
   "outputs": [
    {
     "data": {
      "text/plain": [
       "<AxesSubplot:>"
      ]
     },
     "execution_count": 187,
     "metadata": {},
     "output_type": "execute_result"
    },
    {
     "data": {
      "image/png": "[encoded data removed]",
      "text/plain": [
       "<Figure size 432x288 with 1 Axes>"
      ]
     },
     "metadata": {
      "needs_background": "light"
     },
     "output_type": "display_data"
    }
   ],
   "source": [
    "words_box = genre_subset['Total Words']\n",
    "genre_box = words_box.plot.box()\n",
    "\n",
    "genre_box"
   ]
  },
  {
   "cell_type": "code",
   "execution_count": 188,
   "id": "cc9030d9",
   "metadata": {},
   "outputs": [
    {
     "name": "stderr",
     "output_type": "stream",
     "text": [
      "C:\\Users\\jackc\\AppData\\Local\\Temp\\ipykernel_55248\\1686738932.py:1: FutureWarning: Dropping of nuisance columns in DataFrame reductions (with 'numeric_only=None') is deprecated; in a future version this will raise TypeError.  Select only valid columns before calling the reduction.\n",
      "  mean_table = genre_subset.mean()\n"
     ]
    },
    {
     "data": {
      "text/html": [
       "<div>\n",
       "<style scoped>\n",
       "    .dataframe tbody tr th:only-of-type {\n",
       "        vertical-align: middle;\n",
       "    }\n",
       "\n",
       "    .dataframe tbody tr th {\n",
       "        vertical-align: top;\n",
       "    }\n",
       "\n",
       "    .dataframe thead th {\n",
       "        text-align: right;\n",
       "    }\n",
       "</style>\n",
       "<table border=\"1\" class=\"dataframe\">\n",
       "  <thead>\n",
       "    <tr style=\"text-align: right;\">\n",
       "      <th></th>\n",
       "      <th>Mean</th>\n",
       "    </tr>\n",
       "  </thead>\n",
       "  <tbody>\n",
       "    <tr>\n",
       "      <th>danceability</th>\n",
       "      <td>44.555877</td>\n",
       "    </tr>\n",
       "    <tr>\n",
       "      <th>energy</th>\n",
       "      <td>82.676492</td>\n",
       "    </tr>\n",
       "    <tr>\n",
       "      <th>loudness</th>\n",
       "      <td>-5.072877</td>\n",
       "    </tr>\n",
       "    <tr>\n",
       "      <th>valence</th>\n",
       "      <td>43.250796</td>\n",
       "    </tr>\n",
       "    <tr>\n",
       "      <th>tempo</th>\n",
       "      <td>133.173246</td>\n",
       "    </tr>\n",
       "    <tr>\n",
       "      <th>popularity</th>\n",
       "      <td>44.641953</td>\n",
       "    </tr>\n",
       "    <tr>\n",
       "      <th>Total Words</th>\n",
       "      <td>124.162749</td>\n",
       "    </tr>\n",
       "    <tr>\n",
       "      <th>Total Unique Words</th>\n",
       "      <td>60.180832</td>\n",
       "    </tr>\n",
       "    <tr>\n",
       "      <th>Avg. Word Length</th>\n",
       "      <td>5.124629</td>\n",
       "    </tr>\n",
       "    <tr>\n",
       "      <th>Lexical Diversity</th>\n",
       "      <td>50.839060</td>\n",
       "    </tr>\n",
       "    <tr>\n",
       "      <th>duration_minutes</th>\n",
       "      <td>3.701284</td>\n",
       "    </tr>\n",
       "  </tbody>\n",
       "</table>\n",
       "</div>"
      ],
      "text/plain": [
       "                          Mean\n",
       "danceability         44.555877\n",
       "energy               82.676492\n",
       "loudness             -5.072877\n",
       "valence              43.250796\n",
       "tempo               133.173246\n",
       "popularity           44.641953\n",
       "Total Words         124.162749\n",
       "Total Unique Words   60.180832\n",
       "Avg. Word Length      5.124629\n",
       "Lexical Diversity    50.839060\n",
       "duration_minutes      3.701284"
      ]
     },
     "execution_count": 188,
     "metadata": {},
     "output_type": "execute_result"
    }
   ],
   "source": [
    "mean_table = genre_subset.mean()\n",
    "mean_df = pd.DataFrame(mean_table, columns = ['Mean'])\n",
    "mean_df"
   ]
  },
  {
   "cell_type": "markdown",
   "id": "3492be4b",
   "metadata": {},
   "source": [
    "## Top 20% Genre Subset"
   ]
  },
  {
   "cell_type": "code",
   "execution_count": 194,
   "id": "be72ea45",
   "metadata": {},
   "outputs": [],
   "source": [
    "genre_sub_sort = genre_subset.sort_values('popularity', ascending = False)"
   ]
  },
  {
   "cell_type": "code",
   "execution_count": 195,
   "id": "078b99de",
   "metadata": {},
   "outputs": [],
   "source": [
    "percentage=round(len(genre_sub_sort)/100*20) \n",
    "top_20_genre = genre_sub_sort.head(percentage)\n",
    "bottom_80_genre = genre_sub_sort.iloc[percentage:len(genre_sub_sort),:]"
   ]
  },
  {
   "cell_type": "code",
   "execution_count": 197,
   "id": "5b90ca18",
   "metadata": {},
   "outputs": [
    {
     "data": {
      "text/plain": [
       "Text(0.5, 1.0, 'Top 20%')"
      ]
     },
     "execution_count": 197,
     "metadata": {},
     "output_type": "execute_result"
    },
    {
     "data": {
      "image/png": "[encoded data removed]",
      "text/plain": [
       "<Figure size 432x288 with 1 Axes>"
      ]
     },
     "metadata": {
      "needs_background": "light"
     },
     "output_type": "display_data"
    }
   ],
   "source": [
    "top_20_genre_box = top_20_genre[[\"danceability\", \"energy\", 'Lexical Diversity']]\n",
    "box = top_20_genre_box.plot.box()\n",
    "\n",
    "box.set_title('Top 20%')"
   ]
  },
  {
   "cell_type": "code",
   "execution_count": 199,
   "id": "8a0c9df3",
   "metadata": {},
   "outputs": [
    {
     "name": "stderr",
     "output_type": "stream",
     "text": [
      "C:\\Users\\jackc\\AppData\\Local\\Temp\\ipykernel_55248\\598910969.py:1: FutureWarning: Dropping of nuisance columns in DataFrame reductions (with 'numeric_only=None') is deprecated; in a future version this will raise TypeError.  Select only valid columns before calling the reduction.\n",
      "  mean_table = top_20_genre.mean()\n"
     ]
    },
    {
     "data": {
      "text/html": [
       "<div>\n",
       "<style scoped>\n",
       "    .dataframe tbody tr th:only-of-type {\n",
       "        vertical-align: middle;\n",
       "    }\n",
       "\n",
       "    .dataframe tbody tr th {\n",
       "        vertical-align: top;\n",
       "    }\n",
       "\n",
       "    .dataframe thead th {\n",
       "        text-align: right;\n",
       "    }\n",
       "</style>\n",
       "<table border=\"1\" class=\"dataframe\">\n",
       "  <thead>\n",
       "    <tr style=\"text-align: right;\">\n",
       "      <th></th>\n",
       "      <th>Mean</th>\n",
       "    </tr>\n",
       "  </thead>\n",
       "  <tbody>\n",
       "    <tr>\n",
       "      <th>danceability</th>\n",
       "      <td>47.097297</td>\n",
       "    </tr>\n",
       "    <tr>\n",
       "      <th>energy</th>\n",
       "      <td>84.321622</td>\n",
       "    </tr>\n",
       "    <tr>\n",
       "      <th>loudness</th>\n",
       "      <td>-4.740198</td>\n",
       "    </tr>\n",
       "    <tr>\n",
       "      <th>valence</th>\n",
       "      <td>47.618739</td>\n",
       "    </tr>\n",
       "    <tr>\n",
       "      <th>tempo</th>\n",
       "      <td>134.436658</td>\n",
       "    </tr>\n",
       "    <tr>\n",
       "      <th>popularity</th>\n",
       "      <td>67.324324</td>\n",
       "    </tr>\n",
       "    <tr>\n",
       "      <th>Total Words</th>\n",
       "      <td>142.702703</td>\n",
       "    </tr>\n",
       "    <tr>\n",
       "      <th>Total Unique Words</th>\n",
       "      <td>62.693694</td>\n",
       "    </tr>\n",
       "    <tr>\n",
       "      <th>Avg. Word Length</th>\n",
       "      <td>5.049550</td>\n",
       "    </tr>\n",
       "    <tr>\n",
       "      <th>Lexical Diversity</th>\n",
       "      <td>45.891892</td>\n",
       "    </tr>\n",
       "    <tr>\n",
       "      <th>duration_minutes</th>\n",
       "      <td>3.417838</td>\n",
       "    </tr>\n",
       "  </tbody>\n",
       "</table>\n",
       "</div>"
      ],
      "text/plain": [
       "                          Mean\n",
       "danceability         47.097297\n",
       "energy               84.321622\n",
       "loudness             -4.740198\n",
       "valence              47.618739\n",
       "tempo               134.436658\n",
       "popularity           67.324324\n",
       "Total Words         142.702703\n",
       "Total Unique Words   62.693694\n",
       "Avg. Word Length      5.049550\n",
       "Lexical Diversity    45.891892\n",
       "duration_minutes      3.417838"
      ]
     },
     "execution_count": 199,
     "metadata": {},
     "output_type": "execute_result"
    }
   ],
   "source": [
    "mean_table = top_20_genre.mean()\n",
    "mean_df = pd.DataFrame(mean_table, columns = ['Mean'])\n",
    "mean_df"
   ]
  },
  {
   "cell_type": "code",
   "execution_count": 198,
   "id": "a72ecbb8",
   "metadata": {},
   "outputs": [
    {
     "data": {
      "text/plain": [
       "Text(0.5, 1.0, 'Bottom 80%')"
      ]
     },
     "execution_count": 198,
     "metadata": {},
     "output_type": "execute_result"
    },
    {
     "data": {
      "image/png": "[encoded data removed]",
      "text/plain": [
       "<Figure size 432x288 with 1 Axes>"
      ]
     },
     "metadata": {
      "needs_background": "light"
     },
     "output_type": "display_data"
    }
   ],
   "source": [
    "bottom_80_box = bottom_80_genre[[\"danceability\", \"energy\", 'Lexical Diversity']]\n",
    "box = bottom_80_box.plot.box()\n",
    "\n",
    "box.set_title('Bottom 80%')"
   ]
  },
  {
   "cell_type": "code",
   "execution_count": 200,
   "id": "deb3d5f0",
   "metadata": {},
   "outputs": [
    {
     "name": "stderr",
     "output_type": "stream",
     "text": [
      "C:\\Users\\jackc\\AppData\\Local\\Temp\\ipykernel_55248\\3264759671.py:1: FutureWarning: Dropping of nuisance columns in DataFrame reductions (with 'numeric_only=None') is deprecated; in a future version this will raise TypeError.  Select only valid columns before calling the reduction.\n",
      "  mean_table = bottom_80_genre.mean()\n"
     ]
    },
    {
     "data": {
      "text/html": [
       "<div>\n",
       "<style scoped>\n",
       "    .dataframe tbody tr th:only-of-type {\n",
       "        vertical-align: middle;\n",
       "    }\n",
       "\n",
       "    .dataframe tbody tr th {\n",
       "        vertical-align: top;\n",
       "    }\n",
       "\n",
       "    .dataframe thead th {\n",
       "        text-align: right;\n",
       "    }\n",
       "</style>\n",
       "<table border=\"1\" class=\"dataframe\">\n",
       "  <thead>\n",
       "    <tr style=\"text-align: right;\">\n",
       "      <th></th>\n",
       "      <th>Mean</th>\n",
       "    </tr>\n",
       "  </thead>\n",
       "  <tbody>\n",
       "    <tr>\n",
       "      <th>danceability</th>\n",
       "      <td>43.917647</td>\n",
       "    </tr>\n",
       "    <tr>\n",
       "      <th>energy</th>\n",
       "      <td>82.263348</td>\n",
       "    </tr>\n",
       "    <tr>\n",
       "      <th>loudness</th>\n",
       "      <td>-5.156423</td>\n",
       "    </tr>\n",
       "    <tr>\n",
       "      <th>valence</th>\n",
       "      <td>42.153869</td>\n",
       "    </tr>\n",
       "    <tr>\n",
       "      <th>tempo</th>\n",
       "      <td>132.855964</td>\n",
       "    </tr>\n",
       "    <tr>\n",
       "      <th>popularity</th>\n",
       "      <td>38.945701</td>\n",
       "    </tr>\n",
       "    <tr>\n",
       "      <th>Total Words</th>\n",
       "      <td>119.506787</td>\n",
       "    </tr>\n",
       "    <tr>\n",
       "      <th>Total Unique Words</th>\n",
       "      <td>59.549774</td>\n",
       "    </tr>\n",
       "    <tr>\n",
       "      <th>Avg. Word Length</th>\n",
       "      <td>5.143484</td>\n",
       "    </tr>\n",
       "    <tr>\n",
       "      <th>Lexical Diversity</th>\n",
       "      <td>52.081448</td>\n",
       "    </tr>\n",
       "    <tr>\n",
       "      <th>duration_minutes</th>\n",
       "      <td>3.772466</td>\n",
       "    </tr>\n",
       "  </tbody>\n",
       "</table>\n",
       "</div>"
      ],
      "text/plain": [
       "                          Mean\n",
       "danceability         43.917647\n",
       "energy               82.263348\n",
       "loudness             -5.156423\n",
       "valence              42.153869\n",
       "tempo               132.855964\n",
       "popularity           38.945701\n",
       "Total Words         119.506787\n",
       "Total Unique Words   59.549774\n",
       "Avg. Word Length      5.143484\n",
       "Lexical Diversity    52.081448\n",
       "duration_minutes      3.772466"
      ]
     },
     "execution_count": 200,
     "metadata": {},
     "output_type": "execute_result"
    }
   ],
   "source": [
    "mean_table = bottom_80_genre.mean()\n",
    "mean_df = pd.DataFrame(mean_table, columns = ['Mean'])\n",
    "mean_df"
   ]
  },
  {
   "cell_type": "markdown",
   "id": "8df3c5b9",
   "metadata": {},
   "source": [
    "## Bottom 80%"
   ]
  },
  {
   "cell_type": "markdown",
   "id": "cf001a3f",
   "metadata": {},
   "source": [
    "## Top 20% OG Dataset"
   ]
  },
  {
   "cell_type": "code",
   "execution_count": 173,
   "id": "5732c45a",
   "metadata": {},
   "outputs": [],
   "source": [
    "df_sorted_pop = df.sort_values('popularity', ascending = False)"
   ]
  },
  {
   "cell_type": "code",
   "execution_count": 174,
   "id": "e671313a",
   "metadata": {},
   "outputs": [
    {
     "data": {
      "text/plain": [
       "<AxesSubplot:>"
      ]
     },
     "execution_count": 174,
     "metadata": {},
     "output_type": "execute_result"
    },
    {
     "data": {
      "image/png": "[encoded data removed]",
      "text/plain": [
       "<Figure size 432x288 with 1 Axes>"
      ]
     },
     "metadata": {
      "needs_background": "light"
     },
     "output_type": "display_data"
    }
   ],
   "source": [
    "percentage = round(len(df)/100*20) \n",
    "top_20 = df_sorted_pop.head(percentage)  \n",
    "bottom_80 = df_sorted_pop.iloc[percentage:len(df_sorted_pop),:]\n",
    "\n",
    "\n",
    "top_20_box = top_20[[\"danceability\", \"energy\", 'Lexical Diversity']]\n",
    "top_20_box.plot.box()\n",
    "\n",
    "#top_30_box.set_title('top 30%')"
   ]
  },
  {
   "cell_type": "markdown",
   "id": "e195e3ca",
   "metadata": {},
   "source": [
    "## Comparing Top 20% OG vs. Subset"
   ]
  },
  {
   "cell_type": "code",
   "execution_count": 175,
   "id": "4eac09ea",
   "metadata": {},
   "outputs": [
    {
     "data": {
      "text/plain": [
       "Text(0.5, 1.0, 'Significant Audio Features (Top 20% Related Songs)')"
      ]
     },
     "execution_count": 175,
     "metadata": {},
     "output_type": "execute_result"
    },
    {
     "data": {
      "image/png": "[encoded data removed]",
      "text/plain": [
       "<Figure size 432x288 with 1 Axes>"
      ]
     },
     "metadata": {
      "needs_background": "light"
     },
     "output_type": "display_data"
    }
   ],
   "source": [
    "top_20_box = top_20_box.plot.box()\n",
    "top_20_box.set_title('Significant Audio Features (Top 20% Related Songs)')"
   ]
  },
  {
   "cell_type": "code",
   "execution_count": 167,
   "id": "bc15fb85",
   "metadata": {},
   "outputs": [
    {
     "data": {
      "text/plain": [
       "Text(0.5, 1.0, 'Significant Audio Features (Top 20% Genre Subset)')"
      ]
     },
     "execution_count": 167,
     "metadata": {},
     "output_type": "execute_result"
    },
    {
     "data": {
      "image/png": "[encoded data removed]",
      "text/plain": [
       "<Figure size 432x288 with 1 Axes>"
      ]
     },
     "metadata": {
      "needs_background": "light"
     },
     "output_type": "display_data"
    }
   ],
   "source": [
    "top_20_genre_box = top_20_genre_box.plot.box()\n",
    "top_20_genre_box.set_title('Significant Audio Features (Top 20% Genre Subset)')"
   ]
  }
 ],
 "metadata": {
  "kernelspec": {
   "display_name": "Python 3 (ipykernel)",
   "language": "python",
   "name": "python3"
  },
  "language_info": {
   "codemirror_mode": {
    "name": "ipython",
    "version": 3
   },
   "file_extension": ".py",
   "mimetype": "text/x-python",
   "name": "python",
   "nbconvert_exporter": "python",
   "pygments_lexer": "ipython3",
   "version": "3.10.2"
  }
 },
 "nbformat": 4,
 "nbformat_minor": 5
}
